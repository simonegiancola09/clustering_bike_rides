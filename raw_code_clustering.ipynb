{
 "cells": [
  {
   "cell_type": "markdown",
   "metadata": {
    "id": "70cpAvRhQt1U"
   },
   "source": [
    "# Table of Contents\n",
    "* [Github Repository Cloning](#chapter1)\n",
    "* [Mixing the two Datasets](#chapter2)\n",
    "    * [Section 2.1](#section_2_1)\n",
    "    * [Section 2.2](#section_2_2)\n",
    "* [Feature Engineering](#chapter3)\n",
    "* [Plots](#chapter4)\n",
    "    * [General Statistics](#section4_1)\n",
    "    * [Combined Statistics](#section4_2)\n",
    "* [Feature Enginneering II](#chapter5)\n",
    "    * [Categorization for Type Consistency](#section5_1)\n",
    "    * [Winsorization and Drops](#section5_2)\n",
    "* [K-Means Clustering](#chapter6)\n",
    "* [Saving the Dataset](#chapter7)"
   ]
  },
  {
   "cell_type": "markdown",
   "metadata": {
    "id": "fSAJtUH_ZRCL"
   },
   "source": [
    "# Github repository cloning <a class=\"anchor\" id=\"chapter1\"></a>\n",
    "to access the datasets stored there otherwise google colab needs a new upload each time. "
   ]
  },
  {
   "cell_type": "code",
   "execution_count": 1,
   "metadata": {
    "colab": {
     "base_uri": "https://localhost:8080/",
     "height": 0
    },
    "id": "lVRGn-xgMCyn",
    "outputId": "0e5bf27f-e2f9-4838-bb65-e75a05208b53"
   },
   "outputs": [
    {
     "name": "stdout",
     "output_type": "stream",
     "text": [
      "Initialized empty Git repository in /content/.git/\n",
      "Cloning into 'h_farm_group_work'...\n",
      "remote: Enumerating objects: 33, done.\u001b[K\n",
      "remote: Counting objects: 100% (33/33), done.\u001b[K\n",
      "remote: Compressing objects: 100% (27/27), done.\u001b[K\n",
      "remote: Total 33 (delta 11), reused 16 (delta 4), pack-reused 0\u001b[K\n",
      "Unpacking objects: 100% (33/33), done.\n",
      "Checking out files: 100% (10/10), done.\n"
     ]
    }
   ],
   "source": [
    "# cloning the repository\n",
    "! git init\n",
    "! git clone https://github.com/simonegiancola09/h_farm_group_work.git"
   ]
  },
  {
   "cell_type": "code",
   "execution_count": 2,
   "metadata": {
    "colab": {
     "base_uri": "https://localhost:8080/",
     "height": 0
    },
    "id": "0FVOszHBMWgp",
    "outputId": "5243651b-3867-4f19-f14d-69ea4c463ca3"
   },
   "outputs": [
    {
     "name": "stderr",
     "output_type": "stream",
     "text": [
      "/usr/local/lib/python3.7/dist-packages/IPython/core/interactiveshell.py:2718: DtypeWarning: Columns (5,7) have mixed types.Specify dtype option on import or set low_memory=False.\n",
      "  interactivity=interactivity, compiler=compiler, result=result)\n"
     ]
    }
   ],
   "source": [
    "# magic function to plot inline\n",
    "%matplotlib inline\n",
    "# basic imports\n",
    "import pandas as pd\n",
    "import numpy as np\n",
    "import matplotlib.pyplot as plt\n",
    "\n",
    "# reading csvs\n",
    "df_apr = pd.read_csv('/content/h_farm_group_work/April.csv')\n",
    "df_feb = pd.read_csv('/content/h_farm_group_work/Feb.csv')\n",
    "df_mar = pd.read_csv('/content/h_farm_group_work/Mar.csv')\n",
    "df_weather = pd.read_csv('/content/h_farm_group_work/weather.csv')\n",
    "# adding 30th of april as we forgot...\n",
    "df_weather_30 = pd.read_excel('/content/h_farm_group_work/weatherdata30.xlsx')"
   ]
  },
  {
   "cell_type": "code",
   "execution_count": 3,
   "metadata": {
    "id": "twlrtVGJcd1h"
   },
   "outputs": [],
   "source": [
    "# all weather data available is recovered\n",
    "df_weather = pd.concat([df_weather, df_weather_30])"
   ]
  },
  {
   "cell_type": "code",
   "execution_count": 4,
   "metadata": {
    "id": "uaFE1axEwmCo"
   },
   "outputs": [],
   "source": [
    "def compare_groups(df, col_label, model, cols_cluster, col_to_compare, plot_type, centers = False, perc=None):\n",
    "    \n",
    "    plt.figure(figsize=(12,8))\n",
    "    n_clusters = df[col_label].nunique()\n",
    "    for i in range(n_clusters):\n",
    "        if plot_type == 'scatter':\n",
    "            col1 = col_to_compare[0]\n",
    "            col2 = col_to_compare[1]\n",
    "            scatter = plt.scatter(df.loc[df[col_label]==i, col1], df.loc[df[col_label]==i, col2], label= i, alpha=.1)\n",
    "            if centers:\n",
    "                ind1 = cols_cluster.index(col1)\n",
    "                ind2 = cols_cluster.index(col2)\n",
    "                plt.scatter(model.cluster_centers_[i,ind1], model.cluster_centers_[i,ind2], label=f'center {i}', s=2)\n",
    "        if plot_type=='bar':\n",
    "            index = np.arange(df[col_to_compare].nunique())\n",
    "            bar_width = .8 / n_clusters\n",
    "            vals = df[df[col_label]==i][col_to_compare].value_counts(sort=False)\n",
    "            if perc == 'within':\n",
    "                vals = vals / df[col_to_compare].value_counts(sort=False)\n",
    "            elif perc == 'across':\n",
    "                    vals = vals / df[df[col_label]==i][col_to_compare].shape[0]\n",
    "                    \n",
    "            plt.bar(index+bar_width*i, vals, bar_width, label=i)\n",
    "            if col_to_compare=='day_of_week':       \n",
    "                xlabels = ['Mon', 'Tue', 'Wed', 'Thu', 'Fri', 'Sat', 'Sun'] \n",
    "            elif df[col_to_compare].dtype.name=='category':\n",
    "                xlabels = df[col_to_compare].value_counts(sort=False).index\n",
    "            else:\n",
    "                xlabels = index\n",
    "            if i == n_clusters-1:\n",
    "                plt.xticks(index+bar_width*i/2, xlabels)\n",
    "\n",
    "        elif 'de' in plot_type:\n",
    "            sns.kdeplot(df.loc[df[col_label]==i, col_to_compare], alpha=.1, label=i, fill=True, bw_adjust=2)\n",
    "            \n",
    "        elif plot_type == 'hist':\n",
    "            vals = df[df[col_label]==i][col_to_compare]\n",
    "            bins = 50\n",
    "            plt.hist(vals, label=i, bins = bins, alpha = 0.5)\n",
    "\n",
    "    if col_to_compare == 'Precipitation' or col_to_compare == 'Snow': #add this because otherwise cannot see anything\n",
    "      plt.xlim([-0.5,2])\n",
    "\n",
    "    plt.title(col_to_compare, size=15)\n",
    "    plt.legend()\n",
    "    plt.show()"
   ]
  },
  {
   "cell_type": "code",
   "execution_count": 5,
   "metadata": {
    "colab": {
     "base_uri": "https://localhost:8080/",
     "height": 397
    },
    "id": "bMi_LvefwmFv",
    "outputId": "a89fba41-09ad-49f9-9022-4bc168454373"
   },
   "outputs": [
    {
     "data": {
      "text/html": [
       "<div>\n",
       "<style scoped>\n",
       "    .dataframe tbody tr th:only-of-type {\n",
       "        vertical-align: middle;\n",
       "    }\n",
       "\n",
       "    .dataframe tbody tr th {\n",
       "        vertical-align: top;\n",
       "    }\n",
       "\n",
       "    .dataframe thead th {\n",
       "        text-align: right;\n",
       "    }\n",
       "</style>\n",
       "<table border=\"1\" class=\"dataframe\">\n",
       "  <thead>\n",
       "    <tr style=\"text-align: right;\">\n",
       "      <th></th>\n",
       "      <th>Name</th>\n",
       "      <th>Date time</th>\n",
       "      <th>Maximum Temperature</th>\n",
       "      <th>Minimum Temperature</th>\n",
       "      <th>Temperature</th>\n",
       "      <th>Wind Chill</th>\n",
       "      <th>Heat Index</th>\n",
       "      <th>Precipitation</th>\n",
       "      <th>Snow</th>\n",
       "      <th>Snow Depth</th>\n",
       "      <th>Wind Speed</th>\n",
       "      <th>Wind Direction</th>\n",
       "      <th>Wind Gust</th>\n",
       "      <th>Visibility</th>\n",
       "      <th>Cloud Cover</th>\n",
       "      <th>Relative Humidity</th>\n",
       "      <th>Conditions</th>\n",
       "    </tr>\n",
       "  </thead>\n",
       "  <tbody>\n",
       "    <tr>\n",
       "      <th>0</th>\n",
       "      <td>Washington, DC, United States</td>\n",
       "      <td>02/01/2021 00:00:00</td>\n",
       "      <td>-0.7</td>\n",
       "      <td>-0.7</td>\n",
       "      <td>-0.7</td>\n",
       "      <td>-6.9</td>\n",
       "      <td>NaN</td>\n",
       "      <td>0.0</td>\n",
       "      <td>0.00</td>\n",
       "      <td>4.02</td>\n",
       "      <td>25.3</td>\n",
       "      <td>21.0</td>\n",
       "      <td>NaN</td>\n",
       "      <td>6.5</td>\n",
       "      <td>100.0</td>\n",
       "      <td>90.20</td>\n",
       "      <td>Overcast</td>\n",
       "    </tr>\n",
       "    <tr>\n",
       "      <th>1</th>\n",
       "      <td>Washington, DC, United States</td>\n",
       "      <td>02/01/2021 01:00:00</td>\n",
       "      <td>-0.7</td>\n",
       "      <td>-0.7</td>\n",
       "      <td>-0.7</td>\n",
       "      <td>-6.6</td>\n",
       "      <td>NaN</td>\n",
       "      <td>0.0</td>\n",
       "      <td>0.17</td>\n",
       "      <td>4.18</td>\n",
       "      <td>23.0</td>\n",
       "      <td>19.0</td>\n",
       "      <td>27.7</td>\n",
       "      <td>10.5</td>\n",
       "      <td>100.0</td>\n",
       "      <td>90.05</td>\n",
       "      <td>Snow, Overcast</td>\n",
       "    </tr>\n",
       "    <tr>\n",
       "      <th>2</th>\n",
       "      <td>Washington, DC, United States</td>\n",
       "      <td>02/01/2021 02:00:00</td>\n",
       "      <td>-0.7</td>\n",
       "      <td>-0.7</td>\n",
       "      <td>-0.7</td>\n",
       "      <td>-7.0</td>\n",
       "      <td>NaN</td>\n",
       "      <td>0.0</td>\n",
       "      <td>0.17</td>\n",
       "      <td>4.35</td>\n",
       "      <td>26.3</td>\n",
       "      <td>19.0</td>\n",
       "      <td>NaN</td>\n",
       "      <td>13.2</td>\n",
       "      <td>100.0</td>\n",
       "      <td>89.94</td>\n",
       "      <td>Snow, Overcast</td>\n",
       "    </tr>\n",
       "    <tr>\n",
       "      <th>3</th>\n",
       "      <td>Washington, DC, United States</td>\n",
       "      <td>02/01/2021 03:00:00</td>\n",
       "      <td>-0.7</td>\n",
       "      <td>-0.7</td>\n",
       "      <td>-0.7</td>\n",
       "      <td>-6.3</td>\n",
       "      <td>NaN</td>\n",
       "      <td>0.0</td>\n",
       "      <td>0.17</td>\n",
       "      <td>4.52</td>\n",
       "      <td>21.6</td>\n",
       "      <td>9.0</td>\n",
       "      <td>25.9</td>\n",
       "      <td>11.5</td>\n",
       "      <td>100.0</td>\n",
       "      <td>90.00</td>\n",
       "      <td>Snow, Overcast</td>\n",
       "    </tr>\n",
       "    <tr>\n",
       "      <th>4</th>\n",
       "      <td>Washington, DC, United States</td>\n",
       "      <td>02/01/2021 04:00:00</td>\n",
       "      <td>-0.7</td>\n",
       "      <td>-0.7</td>\n",
       "      <td>-0.7</td>\n",
       "      <td>-6.3</td>\n",
       "      <td>NaN</td>\n",
       "      <td>0.0</td>\n",
       "      <td>0.17</td>\n",
       "      <td>4.68</td>\n",
       "      <td>21.7</td>\n",
       "      <td>351.0</td>\n",
       "      <td>NaN</td>\n",
       "      <td>8.6</td>\n",
       "      <td>100.0</td>\n",
       "      <td>89.81</td>\n",
       "      <td>Snow, Overcast</td>\n",
       "    </tr>\n",
       "  </tbody>\n",
       "</table>\n",
       "</div>"
      ],
      "text/plain": [
       "                            Name  ...      Conditions\n",
       "0  Washington, DC, United States  ...        Overcast\n",
       "1  Washington, DC, United States  ...  Snow, Overcast\n",
       "2  Washington, DC, United States  ...  Snow, Overcast\n",
       "3  Washington, DC, United States  ...  Snow, Overcast\n",
       "4  Washington, DC, United States  ...  Snow, Overcast\n",
       "\n",
       "[5 rows x 17 columns]"
      ]
     },
     "execution_count": 5,
     "metadata": {},
     "output_type": "execute_result"
    }
   ],
   "source": [
    "df_weather.head()"
   ]
  },
  {
   "cell_type": "code",
   "execution_count": 6,
   "metadata": {
    "id": "dO2iGdUawmOz"
   },
   "outputs": [],
   "source": [
    "df_weather['Date'] = pd.to_datetime(df_weather['Date time'])"
   ]
  },
  {
   "cell_type": "code",
   "execution_count": 7,
   "metadata": {
    "id": "L1r1BgLbwmT8"
   },
   "outputs": [],
   "source": [
    "df_weather['month'] = df_weather.Date.dt.month"
   ]
  },
  {
   "cell_type": "code",
   "execution_count": 8,
   "metadata": {
    "id": "FSOhCl3Ox3zG"
   },
   "outputs": [],
   "source": [
    "df_weather.loc[df_weather['Conditions']=='Snow, Overcast', 'Conditions'] = 'Snow'\n",
    "df_weather.loc[df_weather['Conditions']=='Rain, Overcast', 'Conditions'] = 'Rain'\n",
    "df_weather.loc[df_weather['Conditions']=='Rain, Partially cloudy', 'Conditions'] = 'Rain'\n",
    "df_weather.loc[df_weather['Conditions']=='Partially cloudy, Clear'] = 'Clear'"
   ]
  },
  {
   "cell_type": "code",
   "execution_count": 9,
   "metadata": {
    "colab": {
     "base_uri": "https://localhost:8080/",
     "height": 0
    },
    "id": "2HnP2Z4lzELS",
    "outputId": "e670485a-c4ee-41c9-8368-e1a502646ded"
   },
   "outputs": [
    {
     "data": {
      "text/plain": [
       "Clear               0.235784\n",
       "Partially cloudy    0.212205\n",
       "Overcast            0.463245\n",
       "Rain                0.088766\n",
       "Name: Conditions, dtype: float64"
      ]
     },
     "execution_count": 9,
     "metadata": {},
     "output_type": "execute_result"
    }
   ],
   "source": [
    "df_weather[df_weather.month==4].Conditions.value_counts(sort=False)/df_weather[df_weather.month==4].shape[0]"
   ]
  },
  {
   "cell_type": "code",
   "execution_count": 10,
   "metadata": {
    "colab": {
     "base_uri": "https://localhost:8080/",
     "height": 537
    },
    "id": "v2PIJ11bxlXj",
    "outputId": "10a7f804-5bab-4e50-cce5-163093923a27"
   },
   "outputs": [
    {
     "data": {
      "image/png": "[encoded data removed]",
      "text/plain": [
       "<Figure size 864x648 with 1 Axes>"
      ]
     },
     "metadata": {
      "needs_background": "light"
     },
     "output_type": "display_data"
    }
   ],
   "source": [
    "plt.figure(figsize=(12,9))\n",
    "d = {2:'February', 3:'March', 4:'April'}\n",
    "for month in np.unique(df_weather.month):\n",
    "\n",
    "  #index = np.arange(df[col_to_compare].nunique())\n",
    "  if month != 5:\n",
    "    index = np.arange(df_weather[df_weather.month==month].Conditions.nunique())\n",
    "\n",
    "    vals = df_weather[df_weather.month==month]['Conditions'].value_counts(sort=False)/df_weather[df_weather==month].shape[0]\n",
    "    bar_width = 0.25\n",
    "    plt.bar(index+ bar_width*(month-2), vals, label=d[month], width=bar_width)\n",
    "    \n",
    "    plt.xticks(np.array([0.25, 1.25, 2.25, 3.25, 4]), ['Clear', 'Overcast', 'Rain', 'Partially cloudy', 'Snow'])\n",
    "\n",
    "plt.legend() \n",
    "plt.show()"
   ]
  },
  {
   "cell_type": "code",
   "execution_count": 11,
   "metadata": {
    "colab": {
     "base_uri": "https://localhost:8080/",
     "height": 0
    },
    "id": "nGXY_Z4Ehng-",
    "outputId": "82f25f1b-d1bd-4625-9de8-7a257943148b"
   },
   "outputs": [
    {
     "data": {
      "text/plain": [
       "array([0.25, 1.25, 2.25, 3.25, 4.  ])"
      ]
     },
     "execution_count": 11,
     "metadata": {},
     "output_type": "execute_result"
    }
   ],
   "source": [
    "np.array([0.25, 1.25, 2.25, 3.25, 4])"
   ]
  },
  {
   "cell_type": "code",
   "execution_count": 12,
   "metadata": {
    "colab": {
     "base_uri": "https://localhost:8080/",
     "height": 0
    },
    "id": "uwiBeFQfxlaQ",
    "outputId": "ea8f4549-9ede-45ed-991e-5f1c7162d527"
   },
   "outputs": [
    {
     "data": {
      "text/plain": [
       "[15.2, 28.3, 29.9]"
      ]
     },
     "execution_count": 12,
     "metadata": {},
     "output_type": "execute_result"
    }
   ],
   "source": [
    "[df_weather[df_weather.month==month]['Temperature'].max() for month in [2,3,4]]"
   ]
  },
  {
   "cell_type": "code",
   "execution_count": 12,
   "metadata": {
    "id": "ZMRMVQkgxlny"
   },
   "outputs": [],
   "source": []
  },
  {
   "cell_type": "code",
   "execution_count": 13,
   "metadata": {
    "colab": {
     "base_uri": "https://localhost:8080/",
     "height": 417
    },
    "id": "CXIVQilko1iI",
    "outputId": "072da679-7fbe-4a34-8aea-9ef11c89b202"
   },
   "outputs": [
    {
     "data": {
      "text/html": [
       "<div>\n",
       "<style scoped>\n",
       "    .dataframe tbody tr th:only-of-type {\n",
       "        vertical-align: middle;\n",
       "    }\n",
       "\n",
       "    .dataframe tbody tr th {\n",
       "        vertical-align: top;\n",
       "    }\n",
       "\n",
       "    .dataframe thead th {\n",
       "        text-align: right;\n",
       "    }\n",
       "</style>\n",
       "<table border=\"1\" class=\"dataframe\">\n",
       "  <thead>\n",
       "    <tr style=\"text-align: right;\">\n",
       "      <th></th>\n",
       "      <th>Name</th>\n",
       "      <th>Date time</th>\n",
       "      <th>Maximum Temperature</th>\n",
       "      <th>Minimum Temperature</th>\n",
       "      <th>Temperature</th>\n",
       "      <th>Wind Chill</th>\n",
       "      <th>Heat Index</th>\n",
       "      <th>Precipitation</th>\n",
       "      <th>Snow</th>\n",
       "      <th>Snow Depth</th>\n",
       "      <th>Wind Speed</th>\n",
       "      <th>Wind Direction</th>\n",
       "      <th>Wind Gust</th>\n",
       "      <th>Visibility</th>\n",
       "      <th>Cloud Cover</th>\n",
       "      <th>Relative Humidity</th>\n",
       "      <th>Conditions</th>\n",
       "      <th>Date</th>\n",
       "      <th>month</th>\n",
       "    </tr>\n",
       "  </thead>\n",
       "  <tbody>\n",
       "    <tr>\n",
       "      <th>20</th>\n",
       "      <td>Washington, DC, United States</td>\n",
       "      <td>04/30/2021 20:00:00</td>\n",
       "      <td>13.2</td>\n",
       "      <td>13.2</td>\n",
       "      <td>13.2</td>\n",
       "      <td>NaN</td>\n",
       "      <td>NaN</td>\n",
       "      <td>0</td>\n",
       "      <td>0</td>\n",
       "      <td>0</td>\n",
       "      <td>27.9</td>\n",
       "      <td>299</td>\n",
       "      <td>57.4</td>\n",
       "      <td>16</td>\n",
       "      <td>48.4</td>\n",
       "      <td>47.63</td>\n",
       "      <td>Partially cloudy</td>\n",
       "      <td>2021-04-30 20:00:00</td>\n",
       "      <td>4</td>\n",
       "    </tr>\n",
       "    <tr>\n",
       "      <th>21</th>\n",
       "      <td>Washington, DC, United States</td>\n",
       "      <td>04/30/2021 21:00:00</td>\n",
       "      <td>12.1</td>\n",
       "      <td>12.1</td>\n",
       "      <td>12.1</td>\n",
       "      <td>NaN</td>\n",
       "      <td>NaN</td>\n",
       "      <td>0</td>\n",
       "      <td>0</td>\n",
       "      <td>0</td>\n",
       "      <td>33.8</td>\n",
       "      <td>289</td>\n",
       "      <td>54.5</td>\n",
       "      <td>16</td>\n",
       "      <td>24.4</td>\n",
       "      <td>51.2</td>\n",
       "      <td>Clear</td>\n",
       "      <td>2021-04-30 21:00:00</td>\n",
       "      <td>4</td>\n",
       "    </tr>\n",
       "    <tr>\n",
       "      <th>22</th>\n",
       "      <td>Washington, DC, United States</td>\n",
       "      <td>04/30/2021 22:00:00</td>\n",
       "      <td>12.1</td>\n",
       "      <td>12.1</td>\n",
       "      <td>12.1</td>\n",
       "      <td>NaN</td>\n",
       "      <td>NaN</td>\n",
       "      <td>0</td>\n",
       "      <td>0</td>\n",
       "      <td>0</td>\n",
       "      <td>24.5</td>\n",
       "      <td>299</td>\n",
       "      <td>47.5</td>\n",
       "      <td>16</td>\n",
       "      <td>0</td>\n",
       "      <td>49.13</td>\n",
       "      <td>Clear</td>\n",
       "      <td>2021-04-30 22:00:00</td>\n",
       "      <td>4</td>\n",
       "    </tr>\n",
       "    <tr>\n",
       "      <th>23</th>\n",
       "      <td>Washington, DC, United States</td>\n",
       "      <td>04/30/2021 23:00:00</td>\n",
       "      <td>12.1</td>\n",
       "      <td>12.1</td>\n",
       "      <td>12.1</td>\n",
       "      <td>NaN</td>\n",
       "      <td>NaN</td>\n",
       "      <td>0</td>\n",
       "      <td>0</td>\n",
       "      <td>0</td>\n",
       "      <td>41.6</td>\n",
       "      <td>329</td>\n",
       "      <td>64.8</td>\n",
       "      <td>16</td>\n",
       "      <td>0</td>\n",
       "      <td>36.95</td>\n",
       "      <td>Clear</td>\n",
       "      <td>2021-04-30 23:00:00</td>\n",
       "      <td>4</td>\n",
       "    </tr>\n",
       "    <tr>\n",
       "      <th>24</th>\n",
       "      <td>Washington, DC, United States</td>\n",
       "      <td>05/01/2021 00:00:00</td>\n",
       "      <td>11.1</td>\n",
       "      <td>11.1</td>\n",
       "      <td>11.1</td>\n",
       "      <td>NaN</td>\n",
       "      <td>NaN</td>\n",
       "      <td>0</td>\n",
       "      <td>0</td>\n",
       "      <td>0</td>\n",
       "      <td>35.5</td>\n",
       "      <td>319</td>\n",
       "      <td>64.2</td>\n",
       "      <td>16</td>\n",
       "      <td>0</td>\n",
       "      <td>26.05</td>\n",
       "      <td>Clear</td>\n",
       "      <td>2021-05-01 00:00:00</td>\n",
       "      <td>5</td>\n",
       "    </tr>\n",
       "  </tbody>\n",
       "</table>\n",
       "</div>"
      ],
      "text/plain": [
       "                             Name  ... month\n",
       "20  Washington, DC, United States  ...     4\n",
       "21  Washington, DC, United States  ...     4\n",
       "22  Washington, DC, United States  ...     4\n",
       "23  Washington, DC, United States  ...     4\n",
       "24  Washington, DC, United States  ...     5\n",
       "\n",
       "[5 rows x 19 columns]"
      ]
     },
     "execution_count": 13,
     "metadata": {},
     "output_type": "execute_result"
    }
   ],
   "source": [
    "# merge rides dfs\n",
    "df = pd.concat([df_feb, df_mar, df_apr])\n",
    "# view weather dataset\n",
    "df_weather.tail()"
   ]
  },
  {
   "cell_type": "code",
   "execution_count": 14,
   "metadata": {
    "colab": {
     "base_uri": "https://localhost:8080/",
     "height": 400
    },
    "id": "aLpOsn5sJEuS",
    "outputId": "0128a942-d5ea-4890-e815-70b053c3b31a"
   },
   "outputs": [
    {
     "data": {
      "text/html": [
       "<div>\n",
       "<style scoped>\n",
       "    .dataframe tbody tr th:only-of-type {\n",
       "        vertical-align: middle;\n",
       "    }\n",
       "\n",
       "    .dataframe tbody tr th {\n",
       "        vertical-align: top;\n",
       "    }\n",
       "\n",
       "    .dataframe thead th {\n",
       "        text-align: right;\n",
       "    }\n",
       "</style>\n",
       "<table border=\"1\" class=\"dataframe\">\n",
       "  <thead>\n",
       "    <tr style=\"text-align: right;\">\n",
       "      <th></th>\n",
       "      <th>ride_id</th>\n",
       "      <th>rideable_type</th>\n",
       "      <th>started_at</th>\n",
       "      <th>ended_at</th>\n",
       "      <th>start_station_name</th>\n",
       "      <th>start_station_id</th>\n",
       "      <th>end_station_name</th>\n",
       "      <th>end_station_id</th>\n",
       "      <th>start_lat</th>\n",
       "      <th>start_lng</th>\n",
       "      <th>end_lat</th>\n",
       "      <th>end_lng</th>\n",
       "      <th>member_casual</th>\n",
       "    </tr>\n",
       "  </thead>\n",
       "  <tbody>\n",
       "    <tr>\n",
       "      <th>0</th>\n",
       "      <td>0F961E4450F8544E</td>\n",
       "      <td>classic_bike</td>\n",
       "      <td>2021-02-20 14:03:25</td>\n",
       "      <td>2021-02-20 14:14:17</td>\n",
       "      <td>21st St &amp; Pennsylvania Ave NW</td>\n",
       "      <td>31252</td>\n",
       "      <td>New York Ave &amp; 15th St NW</td>\n",
       "      <td>31222</td>\n",
       "      <td>38.901539</td>\n",
       "      <td>-77.046564</td>\n",
       "      <td>38.899032</td>\n",
       "      <td>-77.033354</td>\n",
       "      <td>casual</td>\n",
       "    </tr>\n",
       "    <tr>\n",
       "      <th>1</th>\n",
       "      <td>DFD528B4F2B3CA6A</td>\n",
       "      <td>classic_bike</td>\n",
       "      <td>2021-02-15 09:54:23</td>\n",
       "      <td>2021-02-15 11:21:02</td>\n",
       "      <td>Hains Point/Buckeye &amp; Ohio Dr SW</td>\n",
       "      <td>31273</td>\n",
       "      <td>Hains Point/Buckeye &amp; Ohio Dr SW</td>\n",
       "      <td>31273</td>\n",
       "      <td>38.878433</td>\n",
       "      <td>-77.030230</td>\n",
       "      <td>38.878433</td>\n",
       "      <td>-77.030230</td>\n",
       "      <td>member</td>\n",
       "    </tr>\n",
       "    <tr>\n",
       "      <th>2</th>\n",
       "      <td>2398431BB0EB78BE</td>\n",
       "      <td>classic_bike</td>\n",
       "      <td>2021-02-15 09:53:12</td>\n",
       "      <td>2021-02-15 09:53:34</td>\n",
       "      <td>Hains Point/Buckeye &amp; Ohio Dr SW</td>\n",
       "      <td>31273</td>\n",
       "      <td>Hains Point/Buckeye &amp; Ohio Dr SW</td>\n",
       "      <td>31273</td>\n",
       "      <td>38.878433</td>\n",
       "      <td>-77.030230</td>\n",
       "      <td>38.878433</td>\n",
       "      <td>-77.030230</td>\n",
       "      <td>member</td>\n",
       "    </tr>\n",
       "    <tr>\n",
       "      <th>3</th>\n",
       "      <td>6E32C58697957443</td>\n",
       "      <td>classic_bike</td>\n",
       "      <td>2021-02-24 14:50:17</td>\n",
       "      <td>2021-02-24 15:29:01</td>\n",
       "      <td>Hains Point/Buckeye &amp; Ohio Dr SW</td>\n",
       "      <td>31273</td>\n",
       "      <td>Hains Point/Buckeye &amp; Ohio Dr SW</td>\n",
       "      <td>31273</td>\n",
       "      <td>38.878433</td>\n",
       "      <td>-77.030230</td>\n",
       "      <td>38.878433</td>\n",
       "      <td>-77.030230</td>\n",
       "      <td>member</td>\n",
       "    </tr>\n",
       "    <tr>\n",
       "      <th>4</th>\n",
       "      <td>2DCACE8B26B0A50A</td>\n",
       "      <td>classic_bike</td>\n",
       "      <td>2021-02-05 16:39:10</td>\n",
       "      <td>2021-02-05 16:39:13</td>\n",
       "      <td>Hains Point/Buckeye &amp; Ohio Dr SW</td>\n",
       "      <td>31273</td>\n",
       "      <td>Hains Point/Buckeye &amp; Ohio Dr SW</td>\n",
       "      <td>31273</td>\n",
       "      <td>38.878433</td>\n",
       "      <td>-77.030230</td>\n",
       "      <td>38.878433</td>\n",
       "      <td>-77.030230</td>\n",
       "      <td>member</td>\n",
       "    </tr>\n",
       "  </tbody>\n",
       "</table>\n",
       "</div>"
      ],
      "text/plain": [
       "            ride_id rideable_type  ...    end_lng member_casual\n",
       "0  0F961E4450F8544E  classic_bike  ... -77.033354        casual\n",
       "1  DFD528B4F2B3CA6A  classic_bike  ... -77.030230        member\n",
       "2  2398431BB0EB78BE  classic_bike  ... -77.030230        member\n",
       "3  6E32C58697957443  classic_bike  ... -77.030230        member\n",
       "4  2DCACE8B26B0A50A  classic_bike  ... -77.030230        member\n",
       "\n",
       "[5 rows x 13 columns]"
      ]
     },
     "execution_count": 14,
     "metadata": {},
     "output_type": "execute_result"
    }
   ],
   "source": [
    "# view rides dataset\n",
    "df.head()"
   ]
  },
  {
   "cell_type": "code",
   "execution_count": 15,
   "metadata": {
    "id": "-p3sS_H4qWPc"
   },
   "outputs": [],
   "source": [
    "# trivial merge check\n",
    "assert len(df) == len(df_apr) + len(df_mar) + len(df_feb)"
   ]
  },
  {
   "cell_type": "code",
   "execution_count": 16,
   "metadata": {
    "id": "itfYbCFfqYOi"
   },
   "outputs": [],
   "source": [
    "# reset index to avoid confusion. Index is useless per se\n",
    "df.reset_index(inplace = True)"
   ]
  },
  {
   "cell_type": "code",
   "execution_count": 17,
   "metadata": {
    "colab": {
     "base_uri": "https://localhost:8080/",
     "height": 0
    },
    "id": "90s0v61Krn4q",
    "outputId": "1b88aa8c-d3fc-4931-b789-9d457991cfc1"
   },
   "outputs": [
    {
     "data": {
      "text/plain": [
       "index                               51400\n",
       "ride_id                  65E9926383577E58\n",
       "rideable_type               electric_bike\n",
       "started_at            2021-02-14 10:04:40\n",
       "ended_at              2021-02-14 10:09:55\n",
       "start_station_name          Thomas Circle\n",
       "start_station_id                    31241\n",
       "end_station_name                      NaN\n",
       "end_station_id                        NaN\n",
       "start_lat                         38.9059\n",
       "start_lng                        -77.0326\n",
       "end_lat                              38.9\n",
       "end_lng                            -77.02\n",
       "member_casual                      member\n",
       "Name: 51400, dtype: object"
      ]
     },
     "execution_count": 17,
     "metadata": {},
     "output_type": "execute_result"
    }
   ],
   "source": [
    "# an example of an NaN row\n",
    "# remember to account for this, uniform distribution across stations is unlikely. \n",
    "# each ride takes some time and we might end up distributing stations far apart\n",
    "# with short rides\n",
    "df.loc[51400]"
   ]
  },
  {
   "cell_type": "code",
   "execution_count": 18,
   "metadata": {
    "colab": {
     "base_uri": "https://localhost:8080/",
     "height": 0
    },
    "id": "ygcXMUkisSyA",
    "outputId": "a6cb2edc-77fe-4871-feb8-0b46857daa44"
   },
   "outputs": [
    {
     "name": "stdout",
     "output_type": "stream",
     "text": [
      "Bike rides NaN rate: 0.02860347246542467 \n",
      "\n",
      "Weather samples NaN rate 0.11701105829618501 \n",
      "\n"
     ]
    }
   ],
   "source": [
    "# rate of NaNs for the two datasets\n",
    "# just to understand the gravity of missing values wrt the whole\n",
    "print('Bike rides NaN rate:', df.isnull().values.sum() / (df.shape[0] * df.shape[1]), '\\n')\n",
    "print('Weather samples NaN rate', df_weather.isnull().values.sum() / (df_weather.shape[0] * df_weather.shape[1]), '\\n')\n"
   ]
  },
  {
   "cell_type": "code",
   "execution_count": 19,
   "metadata": {
    "colab": {
     "base_uri": "https://localhost:8080/",
     "height": 0
    },
    "id": "1IfRcykREO5N",
    "outputId": "c4166f30-9797-4fe2-81d6-3bf4dcc061e1"
   },
   "outputs": [
    {
     "data": {
      "text/plain": [
       "Name                   Washington, DC, United States\n",
       "Date time                        02/01/2021 00:00:00\n",
       "Maximum Temperature                             -0.7\n",
       "Minimum Temperature                             -0.7\n",
       "Temperature                                     -0.7\n",
       "Wind Chill                                      -6.9\n",
       "Heat Index                                       NaN\n",
       "Precipitation                                      0\n",
       "Snow                                               0\n",
       "Snow Depth                                      4.02\n",
       "Wind Speed                                      25.3\n",
       "Wind Direction                                    21\n",
       "Wind Gust                                        NaN\n",
       "Visibility                                       6.5\n",
       "Cloud Cover                                      100\n",
       "Relative Humidity                               90.2\n",
       "Conditions                                  Overcast\n",
       "Date                             2021-02-01 00:00:00\n",
       "month                                              2\n",
       "Name: 0, dtype: object"
      ]
     },
     "execution_count": 19,
     "metadata": {},
     "output_type": "execute_result"
    }
   ],
   "source": [
    "# an example of wor with missing values in df_weather\n",
    "df_weather.iloc[0]"
   ]
  },
  {
   "cell_type": "code",
   "execution_count": 20,
   "metadata": {
    "id": "qMf0GjaeGo9r"
   },
   "outputs": [],
   "source": [
    "# further: analyze which columns have a high rate of missing values wrt the total\n",
    "# and choose whether dropping is better than keeping a useless info such as\n",
    "# e.g. Wind Gust\n",
    "def count_perc_missing(df : pd.DataFrame) -> pd.DataFrame:\n",
    "    \"\"\"\n",
    "    Returns dictionary with percentages of missing values for each column\n",
    "    with respect to the total number of missing values\n",
    "    :df: Pandas dataframe to examine\n",
    "    :return: Dataframe with percentages, first is overall, second is wrt the column\n",
    "    \"\"\"\n",
    "    cols = df.columns\n",
    "    # we do not have to loop over index as it will not be an NaN\n",
    "    if cols[0] == 'index':\n",
    "      cols = cols[1:]\n",
    "    tot = df.isnull().values.sum()\n",
    "    num_nan_overall = []\n",
    "    num_nan_overcol = []\n",
    "    for col in cols:\n",
    "      num_nan_overall.append(df[col].isnull().values.sum())\n",
    "      num_nan_overcol.append(df[col].isnull().values.sum() / len(df[col]))\n",
    "    assert len(cols) == len(num_nan_overall)\n",
    "    # return {cols[i]:(num_nan_overall[i] / tot, num_nan_overcol[i]) for i in range(len(cols))}\n",
    "    df = pd.DataFrame(columns = ['overall', 'over_column'])\n",
    "    df['overall'] = num_nan_overall / tot\n",
    "    df['over_column'] = num_nan_overcol\n",
    "    df['feature'] = cols\n",
    "    df.set_index('feature', inplace = True)\n",
    "    return df"
   ]
  },
  {
   "cell_type": "code",
   "execution_count": 21,
   "metadata": {
    "id": "QfnOnDN00v-a"
   },
   "outputs": [],
   "source": [
    "# we calculate the percentage of missing values for each column in the datasets\n",
    "perc_nan_weather = count_perc_missing(df_weather)\n",
    "perc_nan_rides = count_perc_missing(df) "
   ]
  },
  {
   "cell_type": "code",
   "execution_count": 22,
   "metadata": {
    "colab": {
     "base_uri": "https://localhost:8080/",
     "height": 677
    },
    "id": "vA70vUoj0zCg",
    "outputId": "807d853e-ad27-442c-8e33-0d3abc6cf96e"
   },
   "outputs": [
    {
     "data": {
      "text/html": [
       "<div>\n",
       "<style scoped>\n",
       "    .dataframe tbody tr th:only-of-type {\n",
       "        vertical-align: middle;\n",
       "    }\n",
       "\n",
       "    .dataframe tbody tr th {\n",
       "        vertical-align: top;\n",
       "    }\n",
       "\n",
       "    .dataframe thead th {\n",
       "        text-align: right;\n",
       "    }\n",
       "</style>\n",
       "<table border=\"1\" class=\"dataframe\">\n",
       "  <thead>\n",
       "    <tr style=\"text-align: right;\">\n",
       "      <th></th>\n",
       "      <th>overall</th>\n",
       "      <th>over_column</th>\n",
       "    </tr>\n",
       "    <tr>\n",
       "      <th>feature</th>\n",
       "      <th></th>\n",
       "      <th></th>\n",
       "    </tr>\n",
       "  </thead>\n",
       "  <tbody>\n",
       "    <tr>\n",
       "      <th>Name</th>\n",
       "      <td>0.000000</td>\n",
       "      <td>0.000000</td>\n",
       "    </tr>\n",
       "    <tr>\n",
       "      <th>Date time</th>\n",
       "      <td>0.000000</td>\n",
       "      <td>0.000000</td>\n",
       "    </tr>\n",
       "    <tr>\n",
       "      <th>Maximum Temperature</th>\n",
       "      <td>0.000000</td>\n",
       "      <td>0.000000</td>\n",
       "    </tr>\n",
       "    <tr>\n",
       "      <th>Minimum Temperature</th>\n",
       "      <td>0.000000</td>\n",
       "      <td>0.000000</td>\n",
       "    </tr>\n",
       "    <tr>\n",
       "      <th>Temperature</th>\n",
       "      <td>0.000000</td>\n",
       "      <td>0.000000</td>\n",
       "    </tr>\n",
       "    <tr>\n",
       "      <th>Wind Chill</th>\n",
       "      <td>0.225637</td>\n",
       "      <td>0.501638</td>\n",
       "    </tr>\n",
       "    <tr>\n",
       "      <th>Heat Index</th>\n",
       "      <td>0.444328</td>\n",
       "      <td>0.987833</td>\n",
       "    </tr>\n",
       "    <tr>\n",
       "      <th>Precipitation</th>\n",
       "      <td>0.000000</td>\n",
       "      <td>0.000000</td>\n",
       "    </tr>\n",
       "    <tr>\n",
       "      <th>Snow</th>\n",
       "      <td>0.000000</td>\n",
       "      <td>0.000000</td>\n",
       "    </tr>\n",
       "    <tr>\n",
       "      <th>Snow Depth</th>\n",
       "      <td>0.000000</td>\n",
       "      <td>0.000000</td>\n",
       "    </tr>\n",
       "    <tr>\n",
       "      <th>Wind Speed</th>\n",
       "      <td>0.000000</td>\n",
       "      <td>0.000000</td>\n",
       "    </tr>\n",
       "    <tr>\n",
       "      <th>Wind Direction</th>\n",
       "      <td>0.000421</td>\n",
       "      <td>0.000936</td>\n",
       "    </tr>\n",
       "    <tr>\n",
       "      <th>Wind Gust</th>\n",
       "      <td>0.329615</td>\n",
       "      <td>0.732803</td>\n",
       "    </tr>\n",
       "    <tr>\n",
       "      <th>Visibility</th>\n",
       "      <td>0.000000</td>\n",
       "      <td>0.000000</td>\n",
       "    </tr>\n",
       "    <tr>\n",
       "      <th>Cloud Cover</th>\n",
       "      <td>0.000000</td>\n",
       "      <td>0.000000</td>\n",
       "    </tr>\n",
       "    <tr>\n",
       "      <th>Relative Humidity</th>\n",
       "      <td>0.000000</td>\n",
       "      <td>0.000000</td>\n",
       "    </tr>\n",
       "    <tr>\n",
       "      <th>Conditions</th>\n",
       "      <td>0.000000</td>\n",
       "      <td>0.000000</td>\n",
       "    </tr>\n",
       "    <tr>\n",
       "      <th>Date</th>\n",
       "      <td>0.000000</td>\n",
       "      <td>0.000000</td>\n",
       "    </tr>\n",
       "    <tr>\n",
       "      <th>month</th>\n",
       "      <td>0.000000</td>\n",
       "      <td>0.000000</td>\n",
       "    </tr>\n",
       "  </tbody>\n",
       "</table>\n",
       "</div>"
      ],
      "text/plain": [
       "                      overall  over_column\n",
       "feature                                   \n",
       "Name                 0.000000     0.000000\n",
       "Date time            0.000000     0.000000\n",
       "Maximum Temperature  0.000000     0.000000\n",
       "Minimum Temperature  0.000000     0.000000\n",
       "Temperature          0.000000     0.000000\n",
       "Wind Chill           0.225637     0.501638\n",
       "Heat Index           0.444328     0.987833\n",
       "Precipitation        0.000000     0.000000\n",
       "Snow                 0.000000     0.000000\n",
       "Snow Depth           0.000000     0.000000\n",
       "Wind Speed           0.000000     0.000000\n",
       "Wind Direction       0.000421     0.000936\n",
       "Wind Gust            0.329615     0.732803\n",
       "Visibility           0.000000     0.000000\n",
       "Cloud Cover          0.000000     0.000000\n",
       "Relative Humidity    0.000000     0.000000\n",
       "Conditions           0.000000     0.000000\n",
       "Date                 0.000000     0.000000\n",
       "month                0.000000     0.000000"
      ]
     },
     "execution_count": 22,
     "metadata": {},
     "output_type": "execute_result"
    }
   ],
   "source": [
    "# in the weather dataset we might delete the two columns as they are almost useless\n",
    "perc_nan_weather"
   ]
  },
  {
   "cell_type": "code",
   "execution_count": 23,
   "metadata": {
    "colab": {
     "base_uri": "https://localhost:8080/",
     "height": 488
    },
    "id": "GXJLz9gl1BUr",
    "outputId": "de96994b-72e6-4939-f42c-f91de7cf739d"
   },
   "outputs": [
    {
     "data": {
      "text/html": [
       "<div>\n",
       "<style scoped>\n",
       "    .dataframe tbody tr th:only-of-type {\n",
       "        vertical-align: middle;\n",
       "    }\n",
       "\n",
       "    .dataframe tbody tr th {\n",
       "        vertical-align: top;\n",
       "    }\n",
       "\n",
       "    .dataframe thead th {\n",
       "        text-align: right;\n",
       "    }\n",
       "</style>\n",
       "<table border=\"1\" class=\"dataframe\">\n",
       "  <thead>\n",
       "    <tr style=\"text-align: right;\">\n",
       "      <th></th>\n",
       "      <th>overall</th>\n",
       "      <th>over_column</th>\n",
       "    </tr>\n",
       "    <tr>\n",
       "      <th>feature</th>\n",
       "      <th></th>\n",
       "      <th></th>\n",
       "    </tr>\n",
       "  </thead>\n",
       "  <tbody>\n",
       "    <tr>\n",
       "      <th>ride_id</th>\n",
       "      <td>0.000000</td>\n",
       "      <td>0.000000</td>\n",
       "    </tr>\n",
       "    <tr>\n",
       "      <th>rideable_type</th>\n",
       "      <td>0.000000</td>\n",
       "      <td>0.000000</td>\n",
       "    </tr>\n",
       "    <tr>\n",
       "      <th>started_at</th>\n",
       "      <td>0.000000</td>\n",
       "      <td>0.000000</td>\n",
       "    </tr>\n",
       "    <tr>\n",
       "      <th>ended_at</th>\n",
       "      <td>0.000000</td>\n",
       "      <td>0.000000</td>\n",
       "    </tr>\n",
       "    <tr>\n",
       "      <th>start_station_name</th>\n",
       "      <td>0.235312</td>\n",
       "      <td>0.094231</td>\n",
       "    </tr>\n",
       "    <tr>\n",
       "      <th>start_station_id</th>\n",
       "      <td>0.235312</td>\n",
       "      <td>0.094231</td>\n",
       "    </tr>\n",
       "    <tr>\n",
       "      <th>end_station_name</th>\n",
       "      <td>0.260615</td>\n",
       "      <td>0.104363</td>\n",
       "    </tr>\n",
       "    <tr>\n",
       "      <th>end_station_id</th>\n",
       "      <td>0.260615</td>\n",
       "      <td>0.104363</td>\n",
       "    </tr>\n",
       "    <tr>\n",
       "      <th>start_lat</th>\n",
       "      <td>0.000011</td>\n",
       "      <td>0.000004</td>\n",
       "    </tr>\n",
       "    <tr>\n",
       "      <th>start_lng</th>\n",
       "      <td>0.000011</td>\n",
       "      <td>0.000004</td>\n",
       "    </tr>\n",
       "    <tr>\n",
       "      <th>end_lat</th>\n",
       "      <td>0.004062</td>\n",
       "      <td>0.001626</td>\n",
       "    </tr>\n",
       "    <tr>\n",
       "      <th>end_lng</th>\n",
       "      <td>0.004062</td>\n",
       "      <td>0.001626</td>\n",
       "    </tr>\n",
       "    <tr>\n",
       "      <th>member_casual</th>\n",
       "      <td>0.000000</td>\n",
       "      <td>0.000000</td>\n",
       "    </tr>\n",
       "  </tbody>\n",
       "</table>\n",
       "</div>"
      ],
      "text/plain": [
       "                     overall  over_column\n",
       "feature                                  \n",
       "ride_id             0.000000     0.000000\n",
       "rideable_type       0.000000     0.000000\n",
       "started_at          0.000000     0.000000\n",
       "ended_at            0.000000     0.000000\n",
       "start_station_name  0.235312     0.094231\n",
       "start_station_id    0.235312     0.094231\n",
       "end_station_name    0.260615     0.104363\n",
       "end_station_id      0.260615     0.104363\n",
       "start_lat           0.000011     0.000004\n",
       "start_lng           0.000011     0.000004\n",
       "end_lat             0.004062     0.001626\n",
       "end_lng             0.004062     0.001626\n",
       "member_casual       0.000000     0.000000"
      ]
     },
     "execution_count": 23,
     "metadata": {},
     "output_type": "execute_result"
    }
   ],
   "source": [
    "# here it is more complicated, we have to reason more\n",
    "perc_nan_rides"
   ]
  },
  {
   "cell_type": "code",
   "execution_count": 24,
   "metadata": {
    "colab": {
     "base_uri": "https://localhost:8080/",
     "height": 0
    },
    "id": "aMEpzvVF4rQj",
    "outputId": "4c9123a5-9013-40e7-fcc3-edea3667aeac"
   },
   "outputs": [
    {
     "name": "stdout",
     "output_type": "stream",
     "text": [
      "Dates in rides dataset type <class 'str'>\n",
      "Dates in weather dataset type <class 'pandas.core.series.Series'>\n"
     ]
    }
   ],
   "source": [
    "# we have to change the format of the date strings into a datatime format to\n",
    "# make operations, it can be notices by this simple cell\n",
    "print('Dates in rides dataset type', type(df['started_at'][0]))\n",
    "print('Dates in weather dataset type', type(df_weather['Date time'][0]))"
   ]
  },
  {
   "cell_type": "code",
   "execution_count": 25,
   "metadata": {
    "id": "kBUERh_64_6O"
   },
   "outputs": [],
   "source": [
    "# to do so we can use the pd.to_datetime method and overwrite the columns\n",
    "df['started_at'] = pd.to_datetime(df['started_at'])\n",
    "df['ended_at'] = pd.to_datetime(df['ended_at'])\n",
    "df_weather['Date time'] = pd.to_datetime(df_weather['Date time'])"
   ]
  },
  {
   "cell_type": "code",
   "execution_count": 26,
   "metadata": {
    "colab": {
     "base_uri": "https://localhost:8080/",
     "height": 0
    },
    "id": "Xq7PxaZl5Hpm",
    "outputId": "ade3a20e-504f-4e19-9feb-be72ba1552e0"
   },
   "outputs": [
    {
     "name": "stdout",
     "output_type": "stream",
     "text": [
      "max is: 26 days 20:34:45 \n",
      " average is: 0 days 00:27:15.024452499\n"
     ]
    }
   ],
   "source": [
    "# to understand how to merge the datasets we could observe the average and maximum length\n",
    "# of the rides. An easy way would be using the weather data from the starting condition only\n",
    "# measurements are done hourly so if the average and the maximum ride are not far from \n",
    "# one hour an easier merge could be done\n",
    "dist = df['ended_at'] - df['started_at']\n",
    "print('max is:', np.max(dist), '\\n', 'average is:', np.sum(dist) / len(dist))"
   ]
  },
  {
   "cell_type": "code",
   "execution_count": 27,
   "metadata": {
    "id": "9PjalG20tb3f"
   },
   "outputs": [],
   "source": [
    "def quantiles_and_iqr(col : pd.Series) -> tuple:\n",
    "  \"\"\"\n",
    "  Function to return all canonical quantiles, the iqr and the bounds for outliers\n",
    "  :col: Pandas series to examinate\n",
    "  :return: tuple with (first_quantile, median, third_quantile, IQR, lower_buond, upper_bound)\n",
    "  \"\"\"\n",
    "  q1 = col.quantile(0.25)\n",
    "  med = col.quantile(0.5)\n",
    "  q3 = col.quantile(0.75)\n",
    "  iqr = q3 - q1\n",
    "  lower_bound = (q1 - 1.5 * iqr)\n",
    "  upper_bound = (q3 + 1.5 * iqr)\n",
    "  return q1, med, q3, iqr, lower_bound, upper_bound\n"
   ]
  },
  {
   "cell_type": "code",
   "execution_count": 28,
   "metadata": {
    "id": "TFqnoekmzrdS"
   },
   "outputs": [],
   "source": [
    "distance_rides_qts = quantiles_and_iqr(dist)"
   ]
  },
  {
   "cell_type": "code",
   "execution_count": 29,
   "metadata": {
    "colab": {
     "base_uri": "https://localhost:8080/",
     "height": 0
    },
    "id": "lxSgbclbzyj1",
    "outputId": "740a6f15-6130-46d0-e05c-8f1e4191ddea"
   },
   "outputs": [
    {
     "data": {
      "text/plain": [
       "(Timedelta('0 days 00:07:18'),\n",
       " Timedelta('0 days 00:13:08'),\n",
       " Timedelta('0 days 00:23:35'),\n",
       " Timedelta('0 days 00:16:17'),\n",
       " Timedelta('-1 days +23:42:52.500000'),\n",
       " Timedelta('0 days 00:48:00.500000'))"
      ]
     },
     "execution_count": 29,
     "metadata": {},
     "output_type": "execute_result"
    }
   ],
   "source": [
    "distance_rides_qts\n",
    "# from this we can see that any ride longer than one hour is considered as an outlier\n",
    "# in general, shorter rides are preferred, ideally for short distance commutes"
   ]
  },
  {
   "cell_type": "code",
   "execution_count": 30,
   "metadata": {
    "colab": {
     "base_uri": "https://localhost:8080/",
     "height": 0
    },
    "id": "O8DUvIurz46y",
    "outputId": "3e6e5427-3ebd-4eb4-e5d8-cdcab67aa97c"
   },
   "outputs": [
    {
     "data": {
      "text/plain": [
       "0.028167319463811118"
      ]
     },
     "execution_count": 30,
     "metadata": {},
     "output_type": "execute_result"
    }
   ],
   "source": [
    "# check for outliers percentage\n",
    "dist[dist>distance_rides_qts[5]*2].size/dist.size"
   ]
  },
  {
   "cell_type": "markdown",
   "metadata": {
    "id": "5did9CLQ0Rjg"
   },
   "source": [
    "# Mixing the two datasets <a class=\"anchor\" id=\"chapter2\"></a>\n",
    "The approach is matching the hour for each measurement"
   ]
  },
  {
   "cell_type": "code",
   "execution_count": 31,
   "metadata": {
    "id": "NJEut97kj3nW"
   },
   "outputs": [],
   "source": [
    "# basic imports\n",
    "import datetime\n",
    "import seaborn as sns"
   ]
  },
  {
   "cell_type": "code",
   "execution_count": 32,
   "metadata": {
    "colab": {
     "base_uri": "https://localhost:8080/",
     "height": 0
    },
    "id": "ybYq-S8r0YRW",
    "outputId": "0bdfe2ec-c762-466a-b551-2509d8f59d89"
   },
   "outputs": [
    {
     "data": {
      "text/plain": [
       "0    2021-02-01 00:00:00\n",
       "1    2021-02-01 01:00:00\n",
       "2    2021-02-01 02:00:00\n",
       "3    2021-02-01 03:00:00\n",
       "4    2021-02-01 04:00:00\n",
       "             ...        \n",
       "20   2021-04-30 20:00:00\n",
       "21   2021-04-30 21:00:00\n",
       "22   2021-04-30 22:00:00\n",
       "23   2021-04-30 23:00:00\n",
       "24   2021-05-01 00:00:00\n",
       "Name: Date time, Length: 2137, dtype: datetime64[ns]"
      ]
     },
     "execution_count": 32,
     "metadata": {},
     "output_type": "execute_result"
    }
   ],
   "source": [
    "df_weather['Date time']"
   ]
  },
  {
   "cell_type": "code",
   "execution_count": 33,
   "metadata": {
    "colab": {
     "base_uri": "https://localhost:8080/",
     "height": 0
    },
    "id": "ZZEwNrP00ZDB",
    "outputId": "cacd4113-b02a-4aea-8034-055c1b579ca2"
   },
   "outputs": [
    {
     "data": {
      "text/plain": [
       "0        2021-02-20 14:03:25\n",
       "1        2021-02-15 09:54:23\n",
       "2        2021-02-15 09:53:12\n",
       "3        2021-02-24 14:50:17\n",
       "4        2021-02-05 16:39:10\n",
       "                 ...        \n",
       "465428   2021-04-17 13:07:49\n",
       "465429   2021-04-03 15:35:32\n",
       "465430   2021-04-27 17:20:09\n",
       "465431   2021-04-30 12:16:48\n",
       "465432   2021-04-16 16:22:30\n",
       "Name: started_at, Length: 465433, dtype: datetime64[ns]"
      ]
     },
     "execution_count": 33,
     "metadata": {},
     "output_type": "execute_result"
    }
   ],
   "source": [
    "df['started_at']"
   ]
  },
  {
   "cell_type": "code",
   "execution_count": 34,
   "metadata": {
    "id": "x24SmXAj0l1w"
   },
   "outputs": [],
   "source": [
    "def mix_datasets(df_rides : pd.DataFrame, df_weather : pd.DataFrame) -> pd.DataFrame:\n",
    "  \"\"\"\n",
    "  The idea is to find for each ride the starting time and attaching to it the\n",
    "  correspondent weather information\n",
    "  :df_rides: Dataframe of the rides to loop on\n",
    "  :df_weather: Dataframe of the weather data to insert\n",
    "  :return: merged Dataframe\n",
    "  \"\"\"\n",
    "  # we have to shorten the date for the first dataset as they are not comparable\n",
    "  truncated_rides_col = df_rides['started_at'].values.astype('<M8[h]')\n",
    "  # we create a copy just to avoid messing up\n",
    "  df = df_rides.copy(deep = True)\n",
    "  # append the column for comparison\n",
    "  df['Time_to_compare'] = truncated_rides_col\n",
    "  # merge with a left join to avoid missing rides, hopefully all times will\n",
    "  # be available on the weather data\n",
    "  new_df = pd.merge(df, df_weather, left_on = 'Time_to_compare', right_on = 'Date time', how = 'left')\n",
    "  return new_df\n"
   ]
  },
  {
   "cell_type": "code",
   "execution_count": 35,
   "metadata": {
    "colab": {
     "base_uri": "https://localhost:8080/",
     "height": 0
    },
    "id": "FV1tFj731e2o",
    "outputId": "86fb1654-b84b-4743-b795-bed3856ccc4d"
   },
   "outputs": [
    {
     "data": {
      "text/plain": [
       "numpy.datetime64('2021-02-01T00','h')"
      ]
     },
     "execution_count": 35,
     "metadata": {},
     "output_type": "execute_result"
    }
   ],
   "source": [
    "df['started_at'].values.astype('<M8[h]')[0]\n",
    "df_weather['Date time'].values.astype('<M8[h]')[0]"
   ]
  },
  {
   "cell_type": "code",
   "execution_count": 36,
   "metadata": {
    "colab": {
     "base_uri": "https://localhost:8080/",
     "height": 0
    },
    "id": "_9FocyJB4fVL",
    "outputId": "26562a68-4a89-41cc-d17d-3c8af41953b8"
   },
   "outputs": [
    {
     "data": {
      "text/plain": [
       "0    2021-02-01 00:00:00\n",
       "1    2021-02-01 01:00:00\n",
       "2    2021-02-01 02:00:00\n",
       "3    2021-02-01 03:00:00\n",
       "4    2021-02-01 04:00:00\n",
       "             ...        \n",
       "20   2021-04-30 20:00:00\n",
       "21   2021-04-30 21:00:00\n",
       "22   2021-04-30 22:00:00\n",
       "23   2021-04-30 23:00:00\n",
       "24   2021-05-01 00:00:00\n",
       "Name: Date time, Length: 2137, dtype: datetime64[ns]"
      ]
     },
     "execution_count": 36,
     "metadata": {},
     "output_type": "execute_result"
    }
   ],
   "source": [
    "df_weather['Date time']"
   ]
  },
  {
   "cell_type": "code",
   "execution_count": 37,
   "metadata": {
    "id": "ZoBlpZAl55bs"
   },
   "outputs": [],
   "source": [
    "new_df = mix_datasets(df, df_weather)"
   ]
  },
  {
   "cell_type": "code",
   "execution_count": 38,
   "metadata": {
    "colab": {
     "base_uri": "https://localhost:8080/",
     "height": 0
    },
    "id": "wYDAfo40eirB",
    "outputId": "4a2534f3-c38d-4fd9-a80f-31dd89e6ca31"
   },
   "outputs": [
    {
     "data": {
      "text/plain": [
       "(465503, 34)"
      ]
     },
     "execution_count": 38,
     "metadata": {},
     "output_type": "execute_result"
    }
   ],
   "source": [
    "new_df.shape"
   ]
  },
  {
   "cell_type": "code",
   "execution_count": 39,
   "metadata": {
    "colab": {
     "base_uri": "https://localhost:8080/",
     "height": 0
    },
    "id": "Or6UfJEAAAE0",
    "outputId": "fa4df679-3786-45c0-8d6a-ed57225578f1"
   },
   "outputs": [
    {
     "data": {
      "text/plain": [
       "index                       0\n",
       "ride_id                     0\n",
       "rideable_type               0\n",
       "started_at                  0\n",
       "ended_at                    0\n",
       "start_station_name      43880\n",
       "start_station_id        43880\n",
       "end_station_name        48594\n",
       "end_station_id          48594\n",
       "start_lat                   2\n",
       "start_lng                   2\n",
       "end_lat                   758\n",
       "end_lng                   758\n",
       "member_casual               0\n",
       "Time_to_compare             0\n",
       "Name                        0\n",
       "Date time                   0\n",
       "Maximum Temperature         0\n",
       "Minimum Temperature         0\n",
       "Temperature                 0\n",
       "Wind Chill             334348\n",
       "Heat Index             450517\n",
       "Precipitation               0\n",
       "Snow                        0\n",
       "Snow Depth                  0\n",
       "Wind Speed                  0\n",
       "Wind Direction            334\n",
       "Wind Gust              295740\n",
       "Visibility                  0\n",
       "Cloud Cover                 0\n",
       "Relative Humidity           0\n",
       "Conditions                  0\n",
       "Date                        0\n",
       "month                       0\n",
       "dtype: int64"
      ]
     },
     "execution_count": 39,
     "metadata": {},
     "output_type": "execute_result"
    }
   ],
   "source": [
    "new_df.isna().sum()"
   ]
  },
  {
   "cell_type": "code",
   "execution_count": 40,
   "metadata": {
    "colab": {
     "base_uri": "https://localhost:8080/",
     "height": 0
    },
    "id": "WW3e5chOuPJb",
    "outputId": "a64e9db1-4ff2-4d04-ab6c-f451677d5a5a"
   },
   "outputs": [
    {
     "data": {
      "text/plain": [
       "(465503, 465433)"
      ]
     },
     "execution_count": 40,
     "metadata": {},
     "output_type": "execute_result"
    }
   ],
   "source": [
    "# lens should be equal\n",
    "len(new_df), len(df)"
   ]
  },
  {
   "cell_type": "code",
   "execution_count": 41,
   "metadata": {
    "id": "XCd-RiVkUe-u"
   },
   "outputs": [],
   "source": [
    "# now we can do some operations on the dataset like removing rows and \n",
    "# tidying up the information stored\n",
    "def tidy_data2(df : pd.DataFrame, to_drop : list, keep_stations = True) -> pd.DataFrame:\n",
    "    '''\n",
    "    Newer function that does all that is needed. Also rides for which the time\n",
    "    distance is negative are dropped.\n",
    "      :df: target dataframe\n",
    "      :to_drop: names of the columns to drop\n",
    "      :keep_stations: boolean value. If True the stations are kept.\n",
    "      :return: adjusted dataframe\n",
    "    '''\n",
    "    # useless as it is always Washington\n",
    "    final_df = df.drop(['Name'], axis = 1)\n",
    "    # time to compare is repeated at 'Date time'\n",
    "    # for the sake of clarity we keep the original index of each dataset \n",
    "    # but we could just delete it\n",
    "    final_df.rename({'index' : 'original_index'})\n",
    "    if not keep_stations:\n",
    "        # another solution would be attempting to estimate the closest station\n",
    "        # but does a close station influence someone's decision to rent? Not really, \n",
    "        # a customer rents a bike regardless of a close station, and most likely\n",
    "        # drops it off regardlessly again. We could explore places where new stations\n",
    "        # should be placed. \n",
    "        final_df.drop(['start_station_id', 'start_station_name', 'end_station_id', 'end_station_name'], inplace = True, axis = 1)\n",
    "    # values are almost not informative as they are not present in most of the sample\n",
    "    final_df.drop(to_drop, inplace = True, axis = 1)\n",
    "    #drop columns where starting time happened at a alater time than ending one\n",
    "    index_drop = df[df['ended_at'] < df['started_at']].index\n",
    "    final_df.drop(index_drop, inplace = True)\n",
    "    # a small number of samples has missing lat and long information, we could simply drop it\n",
    "    # as we are already working with high N\n",
    "    # another small sample falls on the 30th of April and we do not have data on this\n",
    "    # my mistake, we could retrieve it\n",
    "    final_df.dropna(axis = 0, inplace = True)\n",
    "    # doing all of this we should be certain that there are no NaNs in the dataset\n",
    "    return final_df\n",
    "\n"
   ]
  },
  {
   "cell_type": "code",
   "execution_count": 42,
   "metadata": {
    "id": "GZpb9-ofUuH9"
   },
   "outputs": [],
   "source": [
    "to_drop = ['ride_id', 'Time_to_compare', 'Date time', 'Wind Chill', 'Heat Index', 'Wind Gust']\n",
    "final_df = tidy_data2(new_df, to_drop, False)"
   ]
  },
  {
   "cell_type": "code",
   "execution_count": 43,
   "metadata": {
    "id": "4NkhmtfxWrju"
   },
   "outputs": [],
   "source": [
    "# NA assertion\n",
    "assert final_df.isnull().values.sum() == 0"
   ]
  },
  {
   "cell_type": "code",
   "execution_count": 44,
   "metadata": {
    "colab": {
     "base_uri": "https://localhost:8080/",
     "height": 788
    },
    "id": "6A8O0bcvukkl",
    "outputId": "ed1d16ba-75e6-4910-de20-4b4a36450f87"
   },
   "outputs": [
    {
     "name": "stderr",
     "output_type": "stream",
     "text": [
      "/usr/local/lib/python3.7/dist-packages/ipykernel_launcher.py:24: RuntimeWarning: invalid value encountered in true_divide\n"
     ]
    },
    {
     "data": {
      "text/html": [
       "<div>\n",
       "<style scoped>\n",
       "    .dataframe tbody tr th:only-of-type {\n",
       "        vertical-align: middle;\n",
       "    }\n",
       "\n",
       "    .dataframe tbody tr th {\n",
       "        vertical-align: top;\n",
       "    }\n",
       "\n",
       "    .dataframe thead th {\n",
       "        text-align: right;\n",
       "    }\n",
       "</style>\n",
       "<table border=\"1\" class=\"dataframe\">\n",
       "  <thead>\n",
       "    <tr style=\"text-align: right;\">\n",
       "      <th></th>\n",
       "      <th>overall</th>\n",
       "      <th>over_column</th>\n",
       "    </tr>\n",
       "    <tr>\n",
       "      <th>feature</th>\n",
       "      <th></th>\n",
       "      <th></th>\n",
       "    </tr>\n",
       "  </thead>\n",
       "  <tbody>\n",
       "    <tr>\n",
       "      <th>rideable_type</th>\n",
       "      <td>NaN</td>\n",
       "      <td>0.0</td>\n",
       "    </tr>\n",
       "    <tr>\n",
       "      <th>started_at</th>\n",
       "      <td>NaN</td>\n",
       "      <td>0.0</td>\n",
       "    </tr>\n",
       "    <tr>\n",
       "      <th>ended_at</th>\n",
       "      <td>NaN</td>\n",
       "      <td>0.0</td>\n",
       "    </tr>\n",
       "    <tr>\n",
       "      <th>start_lat</th>\n",
       "      <td>NaN</td>\n",
       "      <td>0.0</td>\n",
       "    </tr>\n",
       "    <tr>\n",
       "      <th>start_lng</th>\n",
       "      <td>NaN</td>\n",
       "      <td>0.0</td>\n",
       "    </tr>\n",
       "    <tr>\n",
       "      <th>end_lat</th>\n",
       "      <td>NaN</td>\n",
       "      <td>0.0</td>\n",
       "    </tr>\n",
       "    <tr>\n",
       "      <th>end_lng</th>\n",
       "      <td>NaN</td>\n",
       "      <td>0.0</td>\n",
       "    </tr>\n",
       "    <tr>\n",
       "      <th>member_casual</th>\n",
       "      <td>NaN</td>\n",
       "      <td>0.0</td>\n",
       "    </tr>\n",
       "    <tr>\n",
       "      <th>Maximum Temperature</th>\n",
       "      <td>NaN</td>\n",
       "      <td>0.0</td>\n",
       "    </tr>\n",
       "    <tr>\n",
       "      <th>Minimum Temperature</th>\n",
       "      <td>NaN</td>\n",
       "      <td>0.0</td>\n",
       "    </tr>\n",
       "    <tr>\n",
       "      <th>Temperature</th>\n",
       "      <td>NaN</td>\n",
       "      <td>0.0</td>\n",
       "    </tr>\n",
       "    <tr>\n",
       "      <th>Precipitation</th>\n",
       "      <td>NaN</td>\n",
       "      <td>0.0</td>\n",
       "    </tr>\n",
       "    <tr>\n",
       "      <th>Snow</th>\n",
       "      <td>NaN</td>\n",
       "      <td>0.0</td>\n",
       "    </tr>\n",
       "    <tr>\n",
       "      <th>Snow Depth</th>\n",
       "      <td>NaN</td>\n",
       "      <td>0.0</td>\n",
       "    </tr>\n",
       "    <tr>\n",
       "      <th>Wind Speed</th>\n",
       "      <td>NaN</td>\n",
       "      <td>0.0</td>\n",
       "    </tr>\n",
       "    <tr>\n",
       "      <th>Wind Direction</th>\n",
       "      <td>NaN</td>\n",
       "      <td>0.0</td>\n",
       "    </tr>\n",
       "    <tr>\n",
       "      <th>Visibility</th>\n",
       "      <td>NaN</td>\n",
       "      <td>0.0</td>\n",
       "    </tr>\n",
       "    <tr>\n",
       "      <th>Cloud Cover</th>\n",
       "      <td>NaN</td>\n",
       "      <td>0.0</td>\n",
       "    </tr>\n",
       "    <tr>\n",
       "      <th>Relative Humidity</th>\n",
       "      <td>NaN</td>\n",
       "      <td>0.0</td>\n",
       "    </tr>\n",
       "    <tr>\n",
       "      <th>Conditions</th>\n",
       "      <td>NaN</td>\n",
       "      <td>0.0</td>\n",
       "    </tr>\n",
       "    <tr>\n",
       "      <th>Date</th>\n",
       "      <td>NaN</td>\n",
       "      <td>0.0</td>\n",
       "    </tr>\n",
       "    <tr>\n",
       "      <th>month</th>\n",
       "      <td>NaN</td>\n",
       "      <td>0.0</td>\n",
       "    </tr>\n",
       "  </tbody>\n",
       "</table>\n",
       "</div>"
      ],
      "text/plain": [
       "                     overall  over_column\n",
       "feature                                  \n",
       "rideable_type            NaN          0.0\n",
       "started_at               NaN          0.0\n",
       "ended_at                 NaN          0.0\n",
       "start_lat                NaN          0.0\n",
       "start_lng                NaN          0.0\n",
       "end_lat                  NaN          0.0\n",
       "end_lng                  NaN          0.0\n",
       "member_casual            NaN          0.0\n",
       "Maximum Temperature      NaN          0.0\n",
       "Minimum Temperature      NaN          0.0\n",
       "Temperature              NaN          0.0\n",
       "Precipitation            NaN          0.0\n",
       "Snow                     NaN          0.0\n",
       "Snow Depth               NaN          0.0\n",
       "Wind Speed               NaN          0.0\n",
       "Wind Direction           NaN          0.0\n",
       "Visibility               NaN          0.0\n",
       "Cloud Cover              NaN          0.0\n",
       "Relative Humidity        NaN          0.0\n",
       "Conditions               NaN          0.0\n",
       "Date                     NaN          0.0\n",
       "month                    NaN          0.0"
      ]
     },
     "execution_count": 44,
     "metadata": {},
     "output_type": "execute_result"
    }
   ],
   "source": [
    "# returns nan on overall number as it is a division by zero\n",
    "count_perc_missing(final_df)"
   ]
  },
  {
   "cell_type": "code",
   "execution_count": 45,
   "metadata": {
    "colab": {
     "base_uri": "https://localhost:8080/",
     "height": 0
    },
    "id": "kpTUCELLyJCx",
    "outputId": "b92121e2-024e-48af-a099-f480b5bb4ff4"
   },
   "outputs": [
    {
     "data": {
      "text/plain": [
       "(464324, 23)"
      ]
     },
     "execution_count": 45,
     "metadata": {},
     "output_type": "execute_result"
    }
   ],
   "source": [
    "final_df.shape"
   ]
  },
  {
   "cell_type": "markdown",
   "metadata": {
    "id": "Aj3_oC4_pFzP"
   },
   "source": [
    "# Feature Engineering <a class=\"anchor\" id=\"chapter3\"></a>\n",
    "Add variables to final_df"
   ]
  },
  {
   "cell_type": "code",
   "execution_count": 46,
   "metadata": {
    "colab": {
     "base_uri": "https://localhost:8080/",
     "height": 0
    },
    "id": "brHt2bwW2SBv",
    "outputId": "e9ec588a-129f-43c8-ed7b-9425b5f82dc7"
   },
   "outputs": [
    {
     "data": {
      "text/plain": [
       "90"
      ]
     },
     "execution_count": 46,
     "metadata": {},
     "output_type": "execute_result"
    }
   ],
   "source": [
    "import datetime\n",
    "# good to know, some dists are actually negative in time which is impossible\n",
    "np.sum(dist < datetime.timedelta(0))"
   ]
  },
  {
   "cell_type": "code",
   "execution_count": 47,
   "metadata": {
    "colab": {
     "base_uri": "https://localhost:8080/",
     "height": 0
    },
    "id": "8Hh6fRw82HZ4",
    "outputId": "15eb45e3-9c44-4c27-9045-dcc2c60ab8ca"
   },
   "outputs": [
    {
     "name": "stdout",
     "output_type": "stream",
     "text": [
      "With Overcast, mean rides count is: 222.42 in 984 hours. Perc members: 0.5907666157965439\n",
      "With Snow, mean rides count is: 41.51 in 61 hours. Perc members: 0.7606635071090048\n",
      "With Rain, mean rides count is: 77.44 in 227 hours. Perc members: 0.6925133689839572\n",
      "With Partially cloudy, mean rides count is: 300.20 in 329 hours. Perc members: 0.552756543309877\n",
      "With Clear, mean rides count is: 236.18 in 536 hours. Perc members: 0.5561690799503914\n"
     ]
    }
   ],
   "source": [
    "# check average usage by types of conditions and percentage of use by members \n",
    "\n",
    "for el in df_weather.Conditions.unique():\n",
    "    rides = final_df[final_df.Conditions==el]\n",
    "    days = df_weather[df_weather.Conditions==el]\n",
    "    perc_member = np.sum(rides['member_casual']=='member')\n",
    "    print( f\"With {el}, mean rides count is: {rides.shape[0]/days.shape[0]:0.2f} in {days.shape[0]} hours.\", \\\n",
    "         f\"Perc members: {perc_member/rides.shape[0]}\")"
   ]
  },
  {
   "cell_type": "code",
   "execution_count": 48,
   "metadata": {
    "colab": {
     "base_uri": "https://localhost:8080/",
     "height": 571
    },
    "id": "AKl1cN0EsZ_z",
    "outputId": "28ff4370-c70f-4e54-c784-1d90583ac23d"
   },
   "outputs": [
    {
     "data": {
      "image/png": "[encoded data removed]",
      "text/plain": [
       "<Figure size 864x576 with 1 Axes>"
      ]
     },
     "metadata": {
      "needs_background": "light"
     },
     "output_type": "display_data"
    },
    {
     "name": "stdout",
     "output_type": "stream",
     "text": [
      "Overcast present 46.045858680393074%\n",
      "Snow present 2.8544688816097334%\n",
      "Rain present 10.622367805334582%\n",
      "Partially cloudy present 15.395414131960692%\n",
      "Clear present 25.08189050070192%\n"
     ]
    }
   ],
   "source": [
    "#plot of the conditions observed in the time period studied\n",
    "\n",
    "plt.figure(figsize=(12,8))\n",
    "plt.hist(df_weather['Conditions'], density=True)\n",
    "plt.show()\n",
    "for cond in df_weather.Conditions.unique():\n",
    "    perc = np.sum(df_weather['Conditions']==cond)/df_weather.shape[0]\n",
    "    print(f\"{cond} present {perc*100}%\")"
   ]
  },
  {
   "cell_type": "code",
   "execution_count": 49,
   "metadata": {
    "id": "0CEF1zyToW0L"
   },
   "outputs": [],
   "source": [
    "#function to add distance between starting and ending stations\n",
    "\n",
    "from geopy import distance\n",
    "\n",
    "def add_distance(df):\n",
    "    '''\n",
    "    Adds distance to a dataframe containing latitude and longitude features.\n",
    "    '''\n",
    "    f = distance.distance\n",
    "    df['distance'] = df[['start_lat', 'start_lng', 'end_lat', 'end_lng']].apply(lambda row: \n",
    "                                             f((row['start_lat'], row['start_lng']), (row['end_lat'], row['end_lng'])).km, axis=1)\n"
   ]
  },
  {
   "cell_type": "code",
   "execution_count": 50,
   "metadata": {
    "id": "Fz_4zbc8ojOy"
   },
   "outputs": [],
   "source": [
    "add_distance(final_df)"
   ]
  },
  {
   "cell_type": "code",
   "execution_count": 51,
   "metadata": {
    "id": "4Sxzke6we1TG"
   },
   "outputs": [],
   "source": [
    "final_df = final_df.sort_values(by=['started_at'], ignore_index=True)"
   ]
  },
  {
   "cell_type": "code",
   "execution_count": 52,
   "metadata": {
    "colab": {
     "base_uri": "https://localhost:8080/",
     "height": 417
    },
    "id": "y6KHEDbXfgOq",
    "outputId": "ff276081-ec8a-4884-d228-d39e4f5833fe"
   },
   "outputs": [
    {
     "data": {
      "text/html": [
       "<div>\n",
       "<style scoped>\n",
       "    .dataframe tbody tr th:only-of-type {\n",
       "        vertical-align: middle;\n",
       "    }\n",
       "\n",
       "    .dataframe tbody tr th {\n",
       "        vertical-align: top;\n",
       "    }\n",
       "\n",
       "    .dataframe thead th {\n",
       "        text-align: right;\n",
       "    }\n",
       "</style>\n",
       "<table border=\"1\" class=\"dataframe\">\n",
       "  <thead>\n",
       "    <tr style=\"text-align: right;\">\n",
       "      <th></th>\n",
       "      <th>index</th>\n",
       "      <th>rideable_type</th>\n",
       "      <th>started_at</th>\n",
       "      <th>ended_at</th>\n",
       "      <th>start_lat</th>\n",
       "      <th>start_lng</th>\n",
       "      <th>end_lat</th>\n",
       "      <th>end_lng</th>\n",
       "      <th>member_casual</th>\n",
       "      <th>Maximum Temperature</th>\n",
       "      <th>Minimum Temperature</th>\n",
       "      <th>Temperature</th>\n",
       "      <th>Precipitation</th>\n",
       "      <th>Snow</th>\n",
       "      <th>Snow Depth</th>\n",
       "      <th>Wind Speed</th>\n",
       "      <th>Wind Direction</th>\n",
       "      <th>Visibility</th>\n",
       "      <th>Cloud Cover</th>\n",
       "      <th>Relative Humidity</th>\n",
       "      <th>Conditions</th>\n",
       "      <th>Date</th>\n",
       "      <th>month</th>\n",
       "      <th>distance</th>\n",
       "    </tr>\n",
       "  </thead>\n",
       "  <tbody>\n",
       "    <tr>\n",
       "      <th>0</th>\n",
       "      <td>66993</td>\n",
       "      <td>electric_bike</td>\n",
       "      <td>2021-02-01 00:01:52</td>\n",
       "      <td>2021-02-01 00:07:59</td>\n",
       "      <td>38.930000</td>\n",
       "      <td>-77.040000</td>\n",
       "      <td>38.920000</td>\n",
       "      <td>-77.020000</td>\n",
       "      <td>casual</td>\n",
       "      <td>-0.7</td>\n",
       "      <td>-0.7</td>\n",
       "      <td>-0.7</td>\n",
       "      <td>0</td>\n",
       "      <td>0</td>\n",
       "      <td>4.02</td>\n",
       "      <td>25.3</td>\n",
       "      <td>21</td>\n",
       "      <td>6.5</td>\n",
       "      <td>100</td>\n",
       "      <td>90.2</td>\n",
       "      <td>Overcast</td>\n",
       "      <td>2021-02-01 00:00:00</td>\n",
       "      <td>2</td>\n",
       "      <td>2.059223</td>\n",
       "    </tr>\n",
       "    <tr>\n",
       "      <th>1</th>\n",
       "      <td>36222</td>\n",
       "      <td>classic_bike</td>\n",
       "      <td>2021-02-01 00:01:57</td>\n",
       "      <td>2021-02-01 00:13:49</td>\n",
       "      <td>38.934881</td>\n",
       "      <td>-77.072755</td>\n",
       "      <td>38.947156</td>\n",
       "      <td>-77.065115</td>\n",
       "      <td>casual</td>\n",
       "      <td>-0.7</td>\n",
       "      <td>-0.7</td>\n",
       "      <td>-0.7</td>\n",
       "      <td>0</td>\n",
       "      <td>0</td>\n",
       "      <td>4.02</td>\n",
       "      <td>25.3</td>\n",
       "      <td>21</td>\n",
       "      <td>6.5</td>\n",
       "      <td>100</td>\n",
       "      <td>90.2</td>\n",
       "      <td>Overcast</td>\n",
       "      <td>2021-02-01 00:00:00</td>\n",
       "      <td>2</td>\n",
       "      <td>1.515155</td>\n",
       "    </tr>\n",
       "    <tr>\n",
       "      <th>2</th>\n",
       "      <td>1044</td>\n",
       "      <td>electric_bike</td>\n",
       "      <td>2021-02-01 00:04:42</td>\n",
       "      <td>2021-02-01 00:17:35</td>\n",
       "      <td>38.897266</td>\n",
       "      <td>-77.070785</td>\n",
       "      <td>38.905247</td>\n",
       "      <td>-77.050538</td>\n",
       "      <td>member</td>\n",
       "      <td>-0.7</td>\n",
       "      <td>-0.7</td>\n",
       "      <td>-0.7</td>\n",
       "      <td>0</td>\n",
       "      <td>0</td>\n",
       "      <td>4.02</td>\n",
       "      <td>25.3</td>\n",
       "      <td>21</td>\n",
       "      <td>6.5</td>\n",
       "      <td>100</td>\n",
       "      <td>90.2</td>\n",
       "      <td>Overcast</td>\n",
       "      <td>2021-02-01 00:00:00</td>\n",
       "      <td>2</td>\n",
       "      <td>1.967222</td>\n",
       "    </tr>\n",
       "    <tr>\n",
       "      <th>3</th>\n",
       "      <td>5330</td>\n",
       "      <td>electric_bike</td>\n",
       "      <td>2021-02-01 00:16:50</td>\n",
       "      <td>2021-02-01 00:29:14</td>\n",
       "      <td>38.908557</td>\n",
       "      <td>-77.032525</td>\n",
       "      <td>38.883513</td>\n",
       "      <td>-77.021682</td>\n",
       "      <td>casual</td>\n",
       "      <td>-0.7</td>\n",
       "      <td>-0.7</td>\n",
       "      <td>-0.7</td>\n",
       "      <td>0</td>\n",
       "      <td>0</td>\n",
       "      <td>4.02</td>\n",
       "      <td>25.3</td>\n",
       "      <td>21</td>\n",
       "      <td>6.5</td>\n",
       "      <td>100</td>\n",
       "      <td>90.2</td>\n",
       "      <td>Overcast</td>\n",
       "      <td>2021-02-01 00:00:00</td>\n",
       "      <td>2</td>\n",
       "      <td>2.935022</td>\n",
       "    </tr>\n",
       "    <tr>\n",
       "      <th>4</th>\n",
       "      <td>57248</td>\n",
       "      <td>electric_bike</td>\n",
       "      <td>2021-02-01 00:21:57</td>\n",
       "      <td>2021-02-01 00:37:54</td>\n",
       "      <td>38.920000</td>\n",
       "      <td>-77.070000</td>\n",
       "      <td>38.900000</td>\n",
       "      <td>-77.050000</td>\n",
       "      <td>casual</td>\n",
       "      <td>-0.7</td>\n",
       "      <td>-0.7</td>\n",
       "      <td>-0.7</td>\n",
       "      <td>0</td>\n",
       "      <td>0</td>\n",
       "      <td>4.02</td>\n",
       "      <td>25.3</td>\n",
       "      <td>21</td>\n",
       "      <td>6.5</td>\n",
       "      <td>100</td>\n",
       "      <td>90.2</td>\n",
       "      <td>Overcast</td>\n",
       "      <td>2021-02-01 00:00:00</td>\n",
       "      <td>2</td>\n",
       "      <td>2.817602</td>\n",
       "    </tr>\n",
       "  </tbody>\n",
       "</table>\n",
       "</div>"
      ],
      "text/plain": [
       "   index  rideable_type  ... month  distance\n",
       "0  66993  electric_bike  ...     2  2.059223\n",
       "1  36222   classic_bike  ...     2  1.515155\n",
       "2   1044  electric_bike  ...     2  1.967222\n",
       "3   5330  electric_bike  ...     2  2.935022\n",
       "4  57248  electric_bike  ...     2  2.817602\n",
       "\n",
       "[5 rows x 24 columns]"
      ]
     },
     "execution_count": 52,
     "metadata": {},
     "output_type": "execute_result"
    }
   ],
   "source": [
    "final_df.head()"
   ]
  },
  {
   "cell_type": "code",
   "execution_count": 53,
   "metadata": {
    "colab": {
     "base_uri": "https://localhost:8080/",
     "height": 0
    },
    "id": "ZSqzeNZjCxai",
    "outputId": "7c39b784-9115-4ae6-d732-efa53589db84"
   },
   "outputs": [
    {
     "data": {
      "text/plain": [
       "array(['Overcast', 'Snow', 'Rain', 'Partially cloudy', 'Clear'],\n",
       "      dtype=object)"
      ]
     },
     "execution_count": 53,
     "metadata": {},
     "output_type": "execute_result"
    }
   ],
   "source": [
    "final_df['Conditions'].unique()"
   ]
  },
  {
   "cell_type": "code",
   "execution_count": 54,
   "metadata": {
    "id": "-VOZv-shvl1f"
   },
   "outputs": [],
   "source": [
    "#aggregate similar conditions to have less categories\n",
    "final_df.loc[final_df['Conditions']=='Snow, Overcast', 'Conditions'] = 'Snow'\n",
    "final_df.loc[final_df['Conditions']=='Rain, Overcast', 'Conditions'] = 'Rain'\n",
    "final_df.loc[final_df['Conditions']=='Rain, Partially cloudy', 'Conditions'] = 'Rain'\n",
    "final_df.loc[final_df['Conditions']=='Partially cloudy, Clear'] = 'Clear'\n",
    "\n"
   ]
  },
  {
   "cell_type": "code",
   "execution_count": 55,
   "metadata": {
    "id": "b2PeGJ2mhEua"
   },
   "outputs": [],
   "source": [
    "#separating time in its components (month, month day, hour, minute)\n",
    "# add time used for each ride and converting it in seconds\n",
    "# transforming categorical variable into category types to encode them\n",
    "final_df['started_at'] = pd.to_datetime(final_df['started_at'], format = '%Y-%m-%d %H:%M:%S')\n",
    "final_df['ended_at'] = pd.to_datetime(final_df['ended_at'], format = '%Y-%m-%d %H:%M:%S')\n",
    "final_df['Time_spent'] = final_df['ended_at'] - final_df['started_at']\n",
    "\n",
    "\n",
    "\n",
    "final_df['month_day'] = final_df['started_at'].dt.day\n",
    "final_df['month'] = final_df['started_at'].dt.month\n",
    "final_df['hour_started'] = final_df['started_at'].dt.hour\n",
    "final_df['minute_started'] = final_df['started_at'].dt.minute\n",
    "final_df['hour_ended'] = final_df['ended_at'].dt.hour\n",
    "final_df['minute_ended'] = final_df['ended_at'].dt.minute\n",
    "final_df['day_of_week'] = final_df['started_at'].dt.dayofweek\n",
    "final_df['rideable_type'] = final_df['rideable_type'].astype('category')\n",
    "final_df['Conditions'] = final_df['Conditions'].astype('category')\n",
    "final_df['member_casual'] = final_df['member_casual'].astype('category')\n",
    "# this is wrong, corrected below\n",
    "# final_df['Time_spent'] = pd.to_timedelta(final_df['Time_spent']).dt.seconds\n",
    "final_df['Time_spent'] = final_df['Time_spent'].dt.total_seconds()"
   ]
  },
  {
   "cell_type": "code",
   "execution_count": 56,
   "metadata": {
    "id": "SRo7TgGofV5M"
   },
   "outputs": [],
   "source": [
    "# simple label encoding\n",
    "\n",
    "final_df['rideable_type_dummy'] = final_df['rideable_type'].cat.codes\n",
    "final_df['Conditions_dummy'] = final_df['Conditions'].cat.codes\n",
    "final_df['member_casual_dummy'] = final_df['member_casual'].cat.codes"
   ]
  },
  {
   "cell_type": "code",
   "execution_count": 57,
   "metadata": {
    "colab": {
     "base_uri": "https://localhost:8080/",
     "height": 0
    },
    "id": "mDcdGlHrfZrT",
    "outputId": "1b43385c-6b03-42c2-93d9-ca2fa4e4474c"
   },
   "outputs": [
    {
     "data": {
      "text/plain": [
       "{0: 'Clear', 1: 'Overcast', 2: 'Partially cloudy', 3: 'Rain', 4: 'Snow'}"
      ]
     },
     "execution_count": 57,
     "metadata": {},
     "output_type": "execute_result"
    }
   ],
   "source": [
    "#mapping from categories to their encoded values\n",
    "\n",
    "dict( enumerate(final_df['Conditions'].cat.categories ) )\n"
   ]
  },
  {
   "cell_type": "code",
   "execution_count": 58,
   "metadata": {
    "colab": {
     "base_uri": "https://localhost:8080/",
     "height": 0
    },
    "id": "gAyadEJ2cxbj",
    "outputId": "1eb582ff-e850-4f1a-fa7f-d8ba22b53da3"
   },
   "outputs": [
    {
     "data": {
      "text/plain": [
       "{0: 'classic_bike', 1: 'docked_bike', 2: 'electric_bike'}"
      ]
     },
     "execution_count": 58,
     "metadata": {},
     "output_type": "execute_result"
    }
   ],
   "source": [
    "dict( enumerate(final_df['rideable_type'].cat.categories ) )\n"
   ]
  },
  {
   "cell_type": "code",
   "execution_count": 59,
   "metadata": {
    "colab": {
     "base_uri": "https://localhost:8080/",
     "height": 0
    },
    "id": "NGsKXexbc9Rp",
    "outputId": "c7b12099-e334-430a-9217-e5ce4e63361e"
   },
   "outputs": [
    {
     "data": {
      "text/plain": [
       "{0: 'classic_bike', 1: 'docked_bike', 2: 'electric_bike'}"
      ]
     },
     "execution_count": 59,
     "metadata": {},
     "output_type": "execute_result"
    }
   ],
   "source": [
    "dict( enumerate(final_df['rideable_type'].cat.categories ) )\n"
   ]
  },
  {
   "cell_type": "code",
   "execution_count": 60,
   "metadata": {
    "id": "jft_0jNKwZfz"
   },
   "outputs": [],
   "source": [
    "#For clustering purposes, it is more accurate to use a polar function of time to take into account time jumps between 23 and 00\n",
    "#\n",
    "def time_to_polar(hour, minute):\n",
    "    angle = np.pi * 2 * (hour * 60 + minute) / (24 * 60)\n",
    "    return np.array([np.cos(angle), np.sin(angle)])\n",
    "\n",
    "final_df['hour_started_polar'] = time_to_polar(final_df['hour_started'], final_df['minute_started'])[0]\n",
    "final_df['minute_started_polar'] = time_to_polar(final_df['hour_started'], final_df['minute_started'])[1]\n",
    "\n",
    "final_df['hour_ended_polar'] = time_to_polar(final_df['hour_ended'], final_df['minute_ended'])[0]\n",
    "final_df['minute_ended_polar'] = time_to_polar(final_df['hour_ended'], final_df['minute_ended'])[1]"
   ]
  },
  {
   "cell_type": "code",
   "execution_count": 61,
   "metadata": {
    "colab": {
     "base_uri": "https://localhost:8080/",
     "height": 0
    },
    "id": "uuPuSJQvfccl",
    "outputId": "f4cf09c1-4245-4152-8446-140785bf92cd"
   },
   "outputs": [
    {
     "data": {
      "text/plain": [
       "index                           object\n",
       "rideable_type                 category\n",
       "started_at              datetime64[ns]\n",
       "ended_at                datetime64[ns]\n",
       "start_lat                       object\n",
       "start_lng                       object\n",
       "end_lat                         object\n",
       "end_lng                         object\n",
       "member_casual                 category\n",
       "Maximum Temperature             object\n",
       "Minimum Temperature             object\n",
       "Temperature                     object\n",
       "Precipitation                   object\n",
       "Snow                            object\n",
       "Snow Depth                      object\n",
       "Wind Speed                      object\n",
       "Wind Direction                  object\n",
       "Visibility                      object\n",
       "Cloud Cover                     object\n",
       "Relative Humidity               object\n",
       "Conditions                    category\n",
       "Date                            object\n",
       "month                            int64\n",
       "distance                        object\n",
       "Time_spent                     float64\n",
       "month_day                        int64\n",
       "hour_started                     int64\n",
       "minute_started                   int64\n",
       "hour_ended                       int64\n",
       "minute_ended                     int64\n",
       "day_of_week                      int64\n",
       "rideable_type_dummy               int8\n",
       "Conditions_dummy                  int8\n",
       "member_casual_dummy               int8\n",
       "hour_started_polar             float64\n",
       "minute_started_polar           float64\n",
       "hour_ended_polar               float64\n",
       "minute_ended_polar             float64\n",
       "dtype: object"
      ]
     },
     "execution_count": 61,
     "metadata": {},
     "output_type": "execute_result"
    }
   ],
   "source": [
    "final_df.dtypes"
   ]
  },
  {
   "cell_type": "code",
   "execution_count": 62,
   "metadata": {
    "colab": {
     "base_uri": "https://localhost:8080/",
     "height": 135
    },
    "id": "NXGZR0c75_hG",
    "outputId": "995d3f28-de29-4112-bdd9-98401f41bb22"
   },
   "outputs": [
    {
     "data": {
      "text/html": [
       "<div>\n",
       "<style scoped>\n",
       "    .dataframe tbody tr th:only-of-type {\n",
       "        vertical-align: middle;\n",
       "    }\n",
       "\n",
       "    .dataframe tbody tr th {\n",
       "        vertical-align: top;\n",
       "    }\n",
       "\n",
       "    .dataframe thead th {\n",
       "        text-align: right;\n",
       "    }\n",
       "</style>\n",
       "<table border=\"1\" class=\"dataframe\">\n",
       "  <thead>\n",
       "    <tr style=\"text-align: right;\">\n",
       "      <th></th>\n",
       "      <th>index</th>\n",
       "      <th>ride_id</th>\n",
       "      <th>rideable_type</th>\n",
       "      <th>started_at</th>\n",
       "      <th>ended_at</th>\n",
       "      <th>start_station_name</th>\n",
       "      <th>start_station_id</th>\n",
       "      <th>end_station_name</th>\n",
       "      <th>end_station_id</th>\n",
       "      <th>start_lat</th>\n",
       "      <th>start_lng</th>\n",
       "      <th>end_lat</th>\n",
       "      <th>end_lng</th>\n",
       "      <th>member_casual</th>\n",
       "    </tr>\n",
       "  </thead>\n",
       "  <tbody>\n",
       "    <tr>\n",
       "      <th>291370</th>\n",
       "      <td>42700</td>\n",
       "      <td>C93358DA8EC8FC55</td>\n",
       "      <td>docked_bike</td>\n",
       "      <td>2021-04-04 15:14:13</td>\n",
       "      <td>2021-05-01 11:48:58</td>\n",
       "      <td>Falls Church City Hall / Park Ave &amp; Little Fal...</td>\n",
       "      <td>32608</td>\n",
       "      <td>Falls Church City Hall / Park Ave &amp; Little Fal...</td>\n",
       "      <td>32608</td>\n",
       "      <td>38.885434</td>\n",
       "      <td>-77.173605</td>\n",
       "      <td>38.885434</td>\n",
       "      <td>-77.173605</td>\n",
       "      <td>casual</td>\n",
       "    </tr>\n",
       "  </tbody>\n",
       "</table>\n",
       "</div>"
      ],
      "text/plain": [
       "        index           ride_id  ...    end_lng member_casual\n",
       "291370  42700  C93358DA8EC8FC55  ... -77.173605        casual\n",
       "\n",
       "[1 rows x 14 columns]"
      ]
     },
     "execution_count": 62,
     "metadata": {},
     "output_type": "execute_result"
    }
   ],
   "source": [
    "# a strange maximum is found, here is the relative data\n",
    "df.iloc[[np.argmax(dist)]]"
   ]
  },
  {
   "cell_type": "code",
   "execution_count": 63,
   "metadata": {
    "id": "Pv0So0CqOw2r"
   },
   "outputs": [],
   "source": [
    "# checking if the problem persists\n",
    "assert (final_df['Time_spent'] < 0).sum() == 0"
   ]
  },
  {
   "cell_type": "markdown",
   "metadata": {
    "id": "eRDSCisEhkG4"
   },
   "source": [
    "# Plots <a class=\"anchor\" id=\"chapter4\"></a>"
   ]
  },
  {
   "cell_type": "markdown",
   "metadata": {
    "id": "c22jiLCb4lgq"
   },
   "source": [
    "## General Statistics <a class=\"anchor\" id=\"section4_1\"></a>"
   ]
  },
  {
   "cell_type": "code",
   "execution_count": 64,
   "metadata": {
    "colab": {
     "base_uri": "https://localhost:8080/",
     "height": 282
    },
    "id": "wHBuLWuh4oT0",
    "outputId": "8d74bb13-0206-4439-e5cc-bfa1ed6410ee"
   },
   "outputs": [
    {
     "data": {
      "text/plain": [
       "<matplotlib.axes._subplots.AxesSubplot at 0x7f2a69bc2d50>"
      ]
     },
     "execution_count": 64,
     "metadata": {},
     "output_type": "execute_result"
    },
    {
     "data": {
      "image/png": "[encoded data removed]",
      "text/plain": [
       "<Figure size 432x288 with 1 Axes>"
      ]
     },
     "metadata": {
      "needs_background": "light"
     },
     "output_type": "display_data"
    }
   ],
   "source": [
    "final_df['member_casual'].hist()"
   ]
  },
  {
   "cell_type": "code",
   "execution_count": 65,
   "metadata": {
    "colab": {
     "base_uri": "https://localhost:8080/",
     "height": 0
    },
    "id": "-t4OImQu6QeJ",
    "outputId": "1c091fed-e5d7-4f59-f502-7ce7b1606cb9"
   },
   "outputs": [
    {
     "name": "stdout",
     "output_type": "stream",
     "text": [
      "The percentage of total rides is \n",
      " 0.58 for members\n",
      " 0.42 for casuals\n"
     ]
    }
   ],
   "source": [
    "# percentage of rides\n",
    "print('The percentage of total rides is \\n',(final_df['member_casual'].value_counts() / len(final_df))[0].round(2), 'for members\\n',\n",
    "      (1 - (final_df['member_casual'].value_counts() / len(final_df))[0]).round(2), 'for casuals')"
   ]
  },
  {
   "cell_type": "code",
   "execution_count": 66,
   "metadata": {
    "colab": {
     "base_uri": "https://localhost:8080/",
     "height": 0
    },
    "id": "8ZNutQeP7NyR",
    "outputId": "e24c2cec-3c45-4331-de29-1b0842aee62e"
   },
   "outputs": [
    {
     "data": {
      "text/plain": [
       "Index(['index', 'rideable_type', 'started_at', 'ended_at', 'start_lat',\n",
       "       'start_lng', 'end_lat', 'end_lng', 'member_casual',\n",
       "       'Maximum Temperature', 'Minimum Temperature', 'Temperature',\n",
       "       'Precipitation', 'Snow', 'Snow Depth', 'Wind Speed', 'Wind Direction',\n",
       "       'Visibility', 'Cloud Cover', 'Relative Humidity', 'Conditions', 'Date',\n",
       "       'month', 'distance', 'Time_spent', 'month_day', 'hour_started',\n",
       "       'minute_started', 'hour_ended', 'minute_ended', 'day_of_week',\n",
       "       'rideable_type_dummy', 'Conditions_dummy', 'member_casual_dummy',\n",
       "       'hour_started_polar', 'minute_started_polar', 'hour_ended_polar',\n",
       "       'minute_ended_polar'],\n",
       "      dtype='object')"
      ]
     },
     "execution_count": 66,
     "metadata": {},
     "output_type": "execute_result"
    }
   ],
   "source": [
    "final_df.columns"
   ]
  },
  {
   "cell_type": "code",
   "execution_count": 67,
   "metadata": {
    "colab": {
     "base_uri": "https://localhost:8080/",
     "height": 0
    },
    "id": "AAX6Q_rA7I_j",
    "outputId": "12d21751-b09a-4803-eba9-fc296f065f9d"
   },
   "outputs": [
    {
     "name": "stdout",
     "output_type": "stream",
     "text": [
      "An average ride lasts 27 minutes and 15 seconds\n"
     ]
    }
   ],
   "source": [
    "# mean duration of rides\n",
    "mean_time = dist.mean().components\n",
    "print('An average ride lasts', mean_time[2], 'minutes and', mean_time[3], 'seconds')"
   ]
  },
  {
   "cell_type": "code",
   "execution_count": 68,
   "metadata": {
    "colab": {
     "base_uri": "https://localhost:8080/",
     "height": 282
    },
    "id": "aun84RvM8PpX",
    "outputId": "7bea4d58-2941-440f-de34-e2ec158a51db"
   },
   "outputs": [
    {
     "data": {
      "text/plain": [
       "<BarContainer object of 3 artists>"
      ]
     },
     "execution_count": 68,
     "metadata": {},
     "output_type": "execute_result"
    },
    {
     "data": {
      "image/png": "[encoded data removed]",
      "text/plain": [
       "<Figure size 432x288 with 1 Axes>"
      ]
     },
     "metadata": {
      "needs_background": "light"
     },
     "output_type": "display_data"
    }
   ],
   "source": [
    "# total number of rides per month\n",
    "rides_by_month = final_df['month'].value_counts()\n",
    "dict_rides = {'Feb' : rides_by_month[2], 'Mar' : rides_by_month[3], 'Apr' : rides_by_month[4]}\n",
    "plt.bar(list(dict_rides.keys()), dict_rides.values(), color = 'm')"
   ]
  },
  {
   "cell_type": "code",
   "execution_count": 69,
   "metadata": {
    "colab": {
     "base_uri": "https://localhost:8080/",
     "height": 282
    },
    "id": "Cj5cwyJUQdGF",
    "outputId": "90227597-9ecf-4f7a-edee-d294af4a1487"
   },
   "outputs": [
    {
     "data": {
      "text/plain": [
       "<matplotlib.axes._subplots.AxesSubplot at 0x7f2a6de16d90>"
      ]
     },
     "execution_count": 69,
     "metadata": {},
     "output_type": "execute_result"
    },
    {
     "data": {
      "image/png": "[encoded data removed]",
      "text/plain": [
       "<Figure size 432x288 with 1 Axes>"
      ]
     },
     "metadata": {
      "needs_background": "light"
     },
     "output_type": "display_data"
    }
   ],
   "source": [
    "final_df['Conditions'].hist(color = 'r', grid = False)"
   ]
  },
  {
   "cell_type": "code",
   "execution_count": 70,
   "metadata": {
    "colab": {
     "base_uri": "https://localhost:8080/",
     "height": 282
    },
    "id": "_3X1276EAPRd",
    "outputId": "de8bf45d-9df4-441b-fef9-3610f3f8d317"
   },
   "outputs": [
    {
     "data": {
      "text/plain": [
       "<matplotlib.axes._subplots.AxesSubplot at 0x7f2a71dfdfd0>"
      ]
     },
     "execution_count": 70,
     "metadata": {},
     "output_type": "execute_result"
    },
    {
     "data": {
      "image/png": "[encoded data removed]",
      "text/plain": [
       "<Figure size 432x288 with 1 Axes>"
      ]
     },
     "metadata": {
      "needs_background": "light"
     },
     "output_type": "display_data"
    }
   ],
   "source": [
    "# peak hours are identified by the distribution of hour_started and hour_ended\n",
    "final_df['hour_started'].hist(bins = 24)\n",
    "# hour ended is similar\n",
    "# peak hour identified between 16:00 and 17:00"
   ]
  },
  {
   "cell_type": "code",
   "execution_count": 71,
   "metadata": {
    "id": "9HjCY1BvA3FW"
   },
   "outputs": [],
   "source": [
    "# conditions by month histogram\n",
    "grouped_by_month_df = final_df.groupby('month')\n",
    "feb = grouped_by_month_df['Conditions'].value_counts()[2]\n",
    "mar = grouped_by_month_df['Conditions'].value_counts()[3]\n",
    "apr = grouped_by_month_df['Conditions'].value_counts()[4]\n",
    "d_feb = {v : feb[v] for v in feb.index}\n",
    "d_mar = {v : mar[v] for v in mar.index}\n",
    "d_apr = {v : mar[v] for v in apr.index}"
   ]
  },
  {
   "cell_type": "code",
   "execution_count": 72,
   "metadata": {
    "colab": {
     "base_uri": "https://localhost:8080/",
     "height": 353
    },
    "id": "GtRX1JN2El7L",
    "outputId": "f6e70e2d-f034-402a-beb8-c3d3aa5f9ab8"
   },
   "outputs": [
    {
     "data": {
      "text/plain": [
       "Text(0.5, 1.0, 'April')"
      ]
     },
     "execution_count": 72,
     "metadata": {},
     "output_type": "execute_result"
    },
    {
     "data": {
      "image/png": "[encoded data removed]",
      "text/plain": [
       "<Figure size 1440x360 with 3 Axes>"
      ]
     },
     "metadata": {
      "needs_background": "light"
     },
     "output_type": "display_data"
    }
   ],
   "source": [
    "fig, (ax1, ax2, ax3) = plt.subplots(1, 3, figsize = (20, 5))\n",
    "\n",
    "ax1.bar(list(d_feb.keys()), d_feb.values())\n",
    "ax1.set_title('February')\n",
    "ax2.bar(list(d_mar.keys()), d_mar.values())\n",
    "ax2.set_title('March')\n",
    "ax3.bar(list(d_apr.keys()), d_apr.values())\n",
    "ax3.set_title('April')"
   ]
  },
  {
   "cell_type": "markdown",
   "metadata": {
    "id": "qbjzjIvQ4q9V"
   },
   "source": [
    "## Combined Statistics <a class=\"anchor\" id=\"section4_2\"></a>"
   ]
  },
  {
   "cell_type": "code",
   "execution_count": 73,
   "metadata": {
    "colab": {
     "base_uri": "https://localhost:8080/",
     "height": 0
    },
    "id": "HpmZ2Mf765qB",
    "outputId": "872f4f00-8315-4336-ace3-aee03c458102"
   },
   "outputs": [
    {
     "name": "stdout",
     "output_type": "stream",
     "text": [
      "42700 26 days 20:34:45\n",
      "97988 24 days 21:16:26\n",
      "77080 24 days 13:45:07\n",
      "101087 23 days 16:25:26\n",
      "142007 23 days 03:37:20\n",
      "128579 20 days 13:08:54\n",
      "22085 17 days 23:50:01\n",
      "124394 17 days 21:28:27\n",
      "22176 16 days 19:04:00\n",
      "80255 16 days 15:16:14\n",
      "149263 16 days 14:17:54\n",
      "64045 15 days 05:22:48\n",
      "85195 15 days 01:16:24\n",
      "156254 14 days 18:47:49\n",
      "33441 14 days 08:23:00\n",
      "199120 13 days 17:57:43\n",
      "97770 13 days 14:10:35\n",
      "3018 12 days 23:20:19\n",
      "3148 11 days 14:42:51\n",
      "30594 10 days 10:46:53\n"
     ]
    }
   ],
   "source": [
    "# we try to print the 20 highest values just to understand the instance of this \n",
    "# phenomenon of long rides\n",
    "longest = np.argsort(-dist)\n",
    "for i in range(20):\n",
    "  print(df.iloc[longest[i]]['index'], dist.iloc[longest[i]])\n",
    "# this will be a problem to deal with"
   ]
  },
  {
   "cell_type": "code",
   "execution_count": 74,
   "metadata": {
    "colab": {
     "base_uri": "https://localhost:8080/",
     "height": 282
    },
    "id": "Bxn5ncGx_W4a",
    "outputId": "dfbdc343-ed76-4e89-d0f2-6e0f313e262e"
   },
   "outputs": [
    {
     "data": {
      "text/plain": [
       "<matplotlib.axes._subplots.AxesSubplot at 0x7f2a71926e10>"
      ]
     },
     "execution_count": 74,
     "metadata": {},
     "output_type": "execute_result"
    },
    {
     "data": {
      "image/png": "[encoded data removed]",
      "text/plain": [
       "<Figure size 432x288 with 1 Axes>"
      ]
     },
     "metadata": {
      "needs_background": "light"
     },
     "output_type": "display_data"
    }
   ],
   "source": [
    "# plotting the distribution of hours spent\n",
    "dist_min = dist / np.timedelta64(1, 'm')\n",
    "dist_min.plot(kind = 'density')\n",
    "# this is good, if we plot as a density then most are concentrated around few minutes somehow\n",
    "# nevertheless, the high number of outliers will have to be dealt with when\n",
    "# defining a distance for the clusters. Most likely those that ride for such a long time\n",
    "# do not end up using it 24/7 and so a maximum ride time could be used as a placeholder"
   ]
  },
  {
   "cell_type": "code",
   "execution_count": 75,
   "metadata": {
    "colab": {
     "base_uri": "https://localhost:8080/",
     "height": 283
    },
    "id": "-8-TUQXcBkoP",
    "outputId": "93fa1b9c-b880-4eb7-b7f9-ff22796e38d5"
   },
   "outputs": [
    {
     "data": {
      "text/plain": [
       "<matplotlib.axes._subplots.AxesSubplot at 0x7f2a714eb150>"
      ]
     },
     "execution_count": 75,
     "metadata": {},
     "output_type": "execute_result"
    },
    {
     "data": {
      "image/png": "[encoded data removed]",
      "text/plain": [
       "<Figure size 432x288 with 1 Axes>"
      ]
     },
     "metadata": {
      "needs_background": "light"
     },
     "output_type": "display_data"
    }
   ],
   "source": [
    "dist_min.plot.box()\n",
    "# there is a huge number of outliers"
   ]
  },
  {
   "cell_type": "code",
   "execution_count": 76,
   "metadata": {
    "colab": {
     "base_uri": "https://localhost:8080/",
     "height": 880
    },
    "id": "QJM3ALDCaSY5",
    "outputId": "02abc78b-0f2c-4ce7-b168-791087965024"
   },
   "outputs": [
    {
     "data": {
      "text/plain": [
       "<matplotlib.axes._subplots.AxesSubplot at 0x7f2a71060050>"
      ]
     },
     "execution_count": 76,
     "metadata": {},
     "output_type": "execute_result"
    },
    {
     "data": {
      "image/png": "[encoded data removed]",
      "text/plain": [
       "<Figure size 1080x1080 with 4 Axes>"
      ]
     },
     "metadata": {
      "needs_background": "light"
     },
     "output_type": "display_data"
    }
   ],
   "source": [
    "# we might also want to look at the distribution of the latitude and longitude\n",
    "# to check if they could replace stations which are missing in around 9% of the sample\n",
    "# if there is enough variability they could explain the location change alone\n",
    "fig, axs = plt.subplots(2, 2, figsize = (15, 15))\n",
    "\n",
    "df['start_lat'].plot(ax = axs[0, 0], kind = 'density')\n",
    "df['end_lat'].plot(ax = axs[0, 1], kind = 'density')\n",
    "df['start_lng'].plot(ax = axs[1, 0], kind = 'density')\n",
    "df['end_lng'].plot(ax = axs[1, 1], kind = 'density')"
   ]
  },
  {
   "cell_type": "code",
   "execution_count": 77,
   "metadata": {
    "id": "n-Woot0ncNR5"
   },
   "outputs": [],
   "source": [
    "from scipy.stats import gaussian_kde\n",
    "from mpl_toolkits import mplot3d\n",
    "# slow but very informative\n",
    "# it is better to view the positional data as a bivariate distribution as lat\n",
    "# is always paired with lng, this way we can notice that the behavior is \n",
    "# good, with an evident concentration around the center\n",
    "def lat_long_density_plot(df : pd.DataFrame, positions = ['start', 'end'] ) -> None:\n",
    "  \"\"\"\n",
    "  Plot the bivariate density distribution estimation of the starting position\n",
    "  and ending position. A grid is sampled to avoid showing too many datapoints\n",
    "  df: Pandas dataframe with the coordinates\n",
    "  return: None\n",
    "  \"\"\"\n",
    "  fig = plt.figure(figsize = (30, 15))\n",
    "  for s in positions:\n",
    "    lat, lng = df[s + '_lat'].dropna().to_numpy(), df[s + '_lng'].dropna().to_numpy()\n",
    "    lat_lng = np.vstack([lat, lng])\n",
    "    density = gaussian_kde(lat_lng)\n",
    "    lat_i, lng_i = np.mgrid[lat.min(): lat.max():100j, lng.min(): lng.max():100j]\n",
    "    di = density(np.vstack([lat_i.flatten(), lng_i.flatten()]))\n",
    "    # from this we can notice that \n",
    "    di.reshape(lng_i.shape)\n",
    "    if s == positions[0]:\n",
    "      ax1 = fig.add_subplot(121, projection = '3d')\n",
    "      ax1.scatter(lat_i, lng_i, di)\n",
    "      ax1.title.set_text('Starting Positions')\n",
    "    else:\n",
    "      ax2 = fig.add_subplot(122, projection = '3d')\n",
    "      ax2.scatter(lat_i, lng_i, di)\n",
    "      ax2.title.set_text('Ending Positions')\n",
    "  fig.show()\n",
    "\n"
   ]
  },
  {
   "cell_type": "code",
   "execution_count": 78,
   "metadata": {
    "id": "rOS04jnAhdXX"
   },
   "outputs": [],
   "source": [
    "# from these plots we can notice that the distribution is pretty much uniform\n",
    "# there is a slight concentration but it looks like there is enough variability\n",
    "# this could allow us to drop the stations which are often missing\n",
    "\n",
    "# very slow, so commented out\n",
    "# lat_long_density_plot(df)"
   ]
  },
  {
   "cell_type": "code",
   "execution_count": 79,
   "metadata": {
    "colab": {
     "base_uri": "https://localhost:8080/",
     "height": 0
    },
    "id": "He3VnfK_pfwq",
    "outputId": "319d42e1-333f-4efa-9b86-c5d35af5930f"
   },
   "outputs": [
    {
     "data": {
      "text/plain": [
       "{'Time_spent': -1677.2919635977773,\n",
       " 'day_of_week': -0.4761609013561965,\n",
       " 'hour_ended': -0.5569699910401535,\n",
       " 'hour_ended_polar': -0.02495152929274347,\n",
       " 'hour_started': -0.3555153442986292,\n",
       " 'hour_started_polar': 0.02240557467154869,\n",
       " 'minute_ended': 0.3175065890436528,\n",
       " 'minute_ended_polar': 0.12132046133130253,\n",
       " 'minute_started': 0.19947921914488376,\n",
       " 'minute_started_polar': 0.09312022738269882,\n",
       " 'month': -0.14160971733998595,\n",
       " 'month_day': 0.17977067446463124}"
      ]
     },
     "execution_count": 79,
     "metadata": {},
     "output_type": "execute_result"
    }
   ],
   "source": [
    "#naive comparison between means of variables with respect to member_casual variable, \n",
    "# might reveal in a glance the variables we should look at if interested in differences between member and casuals\n",
    "\n",
    "\n",
    "cols_difference = {}\n",
    "for col in final_df.dtypes[(final_df.dtypes=='int64') | (final_df.dtypes=='float64')].index:\n",
    "    diff = final_df[final_df['member_casual']=='member'][col].mean() - final_df[final_df['member_casual']=='casual'][col].mean()\n",
    "    cols_difference[col] = diff\n",
    "cols_difference"
   ]
  },
  {
   "cell_type": "code",
   "execution_count": 80,
   "metadata": {
    "id": "Ac7F-WhJho-d"
   },
   "outputs": [],
   "source": [
    "#comparison between members and casuals\n",
    "\n",
    "def compare_cols(df, col_to_compare, plot_type, perc=False):\n",
    "  '''\n",
    "  function that allows to compare statistics regarding usage by members and usage \n",
    "  by casuals\n",
    "  :df : dataframe\n",
    "  :col_to_compare : column of interest to observe comparison\n",
    "  :plot_type : 'bar' if the column can be thought as categorical, 'density' if the column is continuous\n",
    "  :perc : if plot_type=='bar', determine wheter to observe comparison in absolute value or in percentage \n",
    "  '''\n",
    "\n",
    "  plt.figure(figsize=(12,8))\n",
    "    \n",
    "  if plot_type=='bar':\n",
    "      index = np.arange(len(df[col_to_compare].unique()))\n",
    "      bar_width = .35\n",
    "      \n",
    "      share_memb = 1 if not perc else df[df['member_casual']=='member'].shape[0]\n",
    "      share_cas = 1 if not perc else df[df['member_casual']=='casual'].shape[0]\n",
    "      col_member = df[df['member_casual']=='member'][col_to_compare].value_counts(sort=False) / share_memb\n",
    "      col_casual = df[df['member_casual']=='casual'][col_to_compare].value_counts(sort=False) / share_cas\n",
    "      plt.bar(index, col_member, bar_width, label='Member', color='blue')\n",
    "      plt.bar(index+bar_width, col_casual, bar_width, label='Casual', color='red')\n",
    "      if col_to_compare=='day_of_week':       \n",
    "          xlabels = ['Mon', 'Tue', 'Wed', 'Thu', 'Fri', 'Sat', 'Sun'] \n",
    "      elif df[col_to_compare].dtype.name =='category':\n",
    "          xlabels = df[df['member_casual']=='member'][col_to_compare].value_counts(sort=False).index\n",
    "      else:\n",
    "          xlabels = np.arange(len(df[col_to_compare].unique()))\n",
    "      plt.xticks(index+bar_width/2, xlabels)\n",
    "  \n",
    "  elif 'de' in plot_type:\n",
    "      sns.kdeplot(df[df['member_casual']=='member'][col_to_compare],\n",
    "                  alpha=.1, label='member', fill=True, color='blue',\n",
    "                  bw_adjust=1.3)\n",
    "      sns.kdeplot(df[df['member_casual']=='casual'][col_to_compare],\n",
    "                  alpha=.1, label='casual', fill=True, color='red',\n",
    "                  bw_adjust=1.3)\n",
    "      \n",
    "  \n",
    "  plt.title(col_to_compare, size=15)\n",
    "  plt.legend()\n",
    "  plt.show()\n",
    "\n",
    "\n"
   ]
  },
  {
   "cell_type": "code",
   "execution_count": 81,
   "metadata": {
    "colab": {
     "base_uri": "https://localhost:8080/",
     "height": 0
    },
    "id": "CIQh-4J-gekB",
    "outputId": "58dc12ff-e4dd-4a75-f476-f2e12937cfa2"
   },
   "outputs": [
    {
     "data": {
      "text/plain": [
       "Index(['index', 'rideable_type', 'started_at', 'ended_at', 'start_lat',\n",
       "       'start_lng', 'end_lat', 'end_lng', 'member_casual',\n",
       "       'Maximum Temperature', 'Minimum Temperature', 'Temperature',\n",
       "       'Precipitation', 'Snow', 'Snow Depth', 'Wind Speed', 'Wind Direction',\n",
       "       'Visibility', 'Cloud Cover', 'Relative Humidity', 'Conditions', 'Date',\n",
       "       'month', 'distance', 'Time_spent', 'month_day', 'hour_started',\n",
       "       'minute_started', 'hour_ended', 'minute_ended', 'day_of_week',\n",
       "       'rideable_type_dummy', 'Conditions_dummy', 'member_casual_dummy',\n",
       "       'hour_started_polar', 'minute_started_polar', 'hour_ended_polar',\n",
       "       'minute_ended_polar'],\n",
       "      dtype='object')"
      ]
     },
     "execution_count": 81,
     "metadata": {},
     "output_type": "execute_result"
    }
   ],
   "source": [
    "final_df.columns"
   ]
  },
  {
   "cell_type": "code",
   "execution_count": 82,
   "metadata": {
    "colab": {
     "base_uri": "https://localhost:8080/",
     "height": 501
    },
    "id": "eIo78z60fsvy",
    "outputId": "406df121-b825-4cfb-d18e-453ba3a70f02"
   },
   "outputs": [
    {
     "data": {
      "image/png": "[encoded data removed]",
      "text/plain": [
       "<Figure size 864x576 with 1 Axes>"
      ]
     },
     "metadata": {
      "needs_background": "light"
     },
     "output_type": "display_data"
    }
   ],
   "source": [
    "compare_cols(final_df, 'day_of_week', 'bar')"
   ]
  },
  {
   "cell_type": "code",
   "execution_count": 83,
   "metadata": {
    "id": "8yYQdbSlhTHm"
   },
   "outputs": [],
   "source": [
    "grouped_df = final_df.groupby(\"member_casual\")"
   ]
  },
  {
   "cell_type": "code",
   "execution_count": 84,
   "metadata": {
    "colab": {
     "base_uri": "https://localhost:8080/",
     "height": 143
    },
    "id": "BnSzzu0FhYum",
    "outputId": "c4ec1474-680d-4c3f-b975-0bc6aee79bc8"
   },
   "outputs": [
    {
     "data": {
      "text/html": [
       "<div>\n",
       "<style scoped>\n",
       "    .dataframe tbody tr th:only-of-type {\n",
       "        vertical-align: middle;\n",
       "    }\n",
       "\n",
       "    .dataframe tbody tr th {\n",
       "        vertical-align: top;\n",
       "    }\n",
       "\n",
       "    .dataframe thead th {\n",
       "        text-align: right;\n",
       "    }\n",
       "</style>\n",
       "<table border=\"1\" class=\"dataframe\">\n",
       "  <thead>\n",
       "    <tr style=\"text-align: right;\">\n",
       "      <th></th>\n",
       "      <th>Time_spent</th>\n",
       "    </tr>\n",
       "    <tr>\n",
       "      <th>member_casual</th>\n",
       "      <th></th>\n",
       "    </tr>\n",
       "  </thead>\n",
       "  <tbody>\n",
       "    <tr>\n",
       "      <th>casual</th>\n",
       "      <td>42.159542</td>\n",
       "    </tr>\n",
       "    <tr>\n",
       "      <th>member</th>\n",
       "      <td>14.204676</td>\n",
       "    </tr>\n",
       "  </tbody>\n",
       "</table>\n",
       "</div>"
      ],
      "text/plain": [
       "               Time_spent\n",
       "member_casual            \n",
       "casual          42.159542\n",
       "member          14.204676"
      ]
     },
     "execution_count": 84,
     "metadata": {},
     "output_type": "execute_result"
    }
   ],
   "source": [
    "grouped_df[['Time_spent']].mean()/60 #get minutes"
   ]
  },
  {
   "cell_type": "code",
   "execution_count": 85,
   "metadata": {
    "colab": {
     "base_uri": "https://localhost:8080/",
     "height": 515
    },
    "id": "JXTjshfyjSGI",
    "outputId": "6e6fa832-e110-401d-add2-8222a857a871"
   },
   "outputs": [
    {
     "data": {
      "image/png": "[encoded data removed]",
      "text/plain": [
       "<Figure size 864x576 with 1 Axes>"
      ]
     },
     "metadata": {
      "needs_background": "light"
     },
     "output_type": "display_data"
    }
   ],
   "source": [
    "#example of relative frequency comparison\n",
    "\n",
    "compare_cols(final_df, 'distance', 'de', True)"
   ]
  },
  {
   "cell_type": "code",
   "execution_count": 86,
   "metadata": {
    "id": "WMxE9_l3k2tl"
   },
   "outputs": [],
   "source": [
    "#example of absolute value comparison\n",
    "# speed was removed\n",
    "# compare_cols(final_df[final_df.Speed!=0], 'Speed', 'de', True)"
   ]
  },
  {
   "cell_type": "code",
   "execution_count": 87,
   "metadata": {
    "colab": {
     "base_uri": "https://localhost:8080/",
     "height": 515
    },
    "id": "BzUpX0qTlWhL",
    "outputId": "fd730fbf-f5af-40f6-b456-8521d01cd904"
   },
   "outputs": [
    {
     "data": {
      "image/png": "[encoded data removed]",
      "text/plain": [
       "<Figure size 864x576 with 1 Axes>"
      ]
     },
     "metadata": {
      "needs_background": "light"
     },
     "output_type": "display_data"
    }
   ],
   "source": [
    "compare_cols(final_df[final_df.distance!=0], 'distance', 'density', False)"
   ]
  },
  {
   "cell_type": "code",
   "execution_count": 88,
   "metadata": {
    "colab": {
     "base_uri": "https://localhost:8080/",
     "height": 501
    },
    "id": "44n-p2D2JWLh",
    "outputId": "cb3e8b1a-d08d-44bd-f5cc-18530b69100c"
   },
   "outputs": [
    {
     "data": {
      "image/png": "[encoded data removed]",
      "text/plain": [
       "<Figure size 864x576 with 1 Axes>"
      ]
     },
     "metadata": {
      "needs_background": "light"
     },
     "output_type": "display_data"
    }
   ],
   "source": [
    "compare_cols(final_df, 'month', 'bar', True)"
   ]
  },
  {
   "cell_type": "code",
   "execution_count": 89,
   "metadata": {
    "colab": {
     "base_uri": "https://localhost:8080/",
     "height": 501
    },
    "id": "e8xkan18JmrS",
    "outputId": "5f39dbab-5d61-4bfd-9480-956e004a213c"
   },
   "outputs": [
    {
     "data": {
      "image/png": "[encoded data removed]",
      "text/plain": [
       "<Figure size 864x576 with 1 Axes>"
      ]
     },
     "metadata": {
      "needs_background": "light"
     },
     "output_type": "display_data"
    }
   ],
   "source": [
    "compare_cols(final_df, 'Conditions', 'bar', True)"
   ]
  },
  {
   "cell_type": "code",
   "execution_count": 90,
   "metadata": {
    "colab": {
     "base_uri": "https://localhost:8080/",
     "height": 516
    },
    "id": "LwpMXUCSIL4x",
    "outputId": "2d11481b-d6d0-43b8-d3a4-97948011a7ca"
   },
   "outputs": [
    {
     "data": {
      "image/png": "[encoded data removed]",
      "text/plain": [
       "<Figure size 864x576 with 1 Axes>"
      ]
     },
     "metadata": {
      "needs_background": "light"
     },
     "output_type": "display_data"
    }
   ],
   "source": [
    "# too many outliers, impossible to visualize\n",
    "compare_cols(final_df, 'Time_spent', 'density', False)"
   ]
  },
  {
   "cell_type": "markdown",
   "metadata": {
    "id": "z3Tid14bBZq0"
   },
   "source": [
    "# Feature Engineering II <a class=\"anchor\" id=\"chapter5\"></a>"
   ]
  },
  {
   "cell_type": "markdown",
   "metadata": {
    "id": "kmYWB-Gb1RuT"
   },
   "source": [
    "## Categorization for type Consistency <a class=\"anchor\" id=\"section5_1\"></a>"
   ]
  },
  {
   "cell_type": "markdown",
   "metadata": {
    "id": "AI1uCuTWQWhX"
   },
   "source": [
    "Some columns are regarded as numeric when they are categorical, here they are transformed for consistency. "
   ]
  },
  {
   "cell_type": "code",
   "execution_count": 91,
   "metadata": {
    "colab": {
     "base_uri": "https://localhost:8080/",
     "height": 0
    },
    "id": "sKr_A3rQiPkT",
    "outputId": "ad6b70cb-9cd6-4cb5-b5ec-f73fe5b48866"
   },
   "outputs": [
    {
     "data": {
      "text/plain": [
       "Index(['index', 'rideable_type', 'started_at', 'ended_at', 'start_lat',\n",
       "       'start_lng', 'end_lat', 'end_lng', 'member_casual',\n",
       "       'Maximum Temperature', 'Minimum Temperature', 'Temperature',\n",
       "       'Precipitation', 'Snow', 'Snow Depth', 'Wind Speed', 'Wind Direction',\n",
       "       'Visibility', 'Cloud Cover', 'Relative Humidity', 'Conditions', 'Date',\n",
       "       'month', 'distance', 'Time_spent', 'month_day', 'hour_started',\n",
       "       'minute_started', 'hour_ended', 'minute_ended', 'day_of_week',\n",
       "       'rideable_type_dummy', 'Conditions_dummy', 'member_casual_dummy',\n",
       "       'hour_started_polar', 'minute_started_polar', 'hour_ended_polar',\n",
       "       'minute_ended_polar'],\n",
       "      dtype='object')"
      ]
     },
     "execution_count": 91,
     "metadata": {},
     "output_type": "execute_result"
    }
   ],
   "source": [
    "final_df.columns"
   ]
  },
  {
   "cell_type": "code",
   "execution_count": 92,
   "metadata": {
    "colab": {
     "base_uri": "https://localhost:8080/",
     "height": 0
    },
    "id": "OubZICKv1v2Y",
    "outputId": "df4b84c5-688e-4d3f-9fc6-d7c646fe1001"
   },
   "outputs": [
    {
     "data": {
      "text/plain": [
       "index                           object\n",
       "rideable_type                 category\n",
       "started_at              datetime64[ns]\n",
       "ended_at                datetime64[ns]\n",
       "start_lat                       object\n",
       "start_lng                       object\n",
       "end_lat                         object\n",
       "end_lng                         object\n",
       "member_casual                 category\n",
       "Maximum Temperature             object\n",
       "Minimum Temperature             object\n",
       "Temperature                     object\n",
       "Precipitation                   object\n",
       "Snow                            object\n",
       "Snow Depth                      object\n",
       "Wind Speed                      object\n",
       "Wind Direction                  object\n",
       "Visibility                      object\n",
       "Cloud Cover                     object\n",
       "Relative Humidity               object\n",
       "Conditions                    category\n",
       "Date                            object\n",
       "month                            int64\n",
       "distance                        object\n",
       "Time_spent                     float64\n",
       "month_day                        int64\n",
       "hour_started                     int64\n",
       "minute_started                   int64\n",
       "hour_ended                       int64\n",
       "minute_ended                     int64\n",
       "day_of_week                      int64\n",
       "rideable_type_dummy               int8\n",
       "Conditions_dummy                  int8\n",
       "member_casual_dummy               int8\n",
       "hour_started_polar             float64\n",
       "minute_started_polar           float64\n",
       "hour_ended_polar               float64\n",
       "minute_ended_polar             float64\n",
       "dtype: object"
      ]
     },
     "execution_count": 92,
     "metadata": {},
     "output_type": "execute_result"
    }
   ],
   "source": [
    "final_df.dtypes"
   ]
  },
  {
   "cell_type": "code",
   "execution_count": 93,
   "metadata": {
    "colab": {
     "base_uri": "https://localhost:8080/",
     "height": 0
    },
    "id": "RxtDqMbu1UXO",
    "outputId": "6dc7d51d-009a-45a6-fd4c-7c923743df3c"
   },
   "outputs": [
    {
     "data": {
      "text/plain": [
       "Index(['month', 'Time_spent', 'month_day', 'hour_started', 'minute_started',\n",
       "       'hour_ended', 'minute_ended', 'day_of_week', 'rideable_type_dummy',\n",
       "       'Conditions_dummy', 'member_casual_dummy', 'hour_started_polar',\n",
       "       'minute_started_polar', 'hour_ended_polar', 'minute_ended_polar'],\n",
       "      dtype='object')"
      ]
     },
     "execution_count": 93,
     "metadata": {},
     "output_type": "execute_result"
    }
   ],
   "source": [
    "# some columns are categories but are counted as numeric\n",
    "final_df._get_numeric_data().columns"
   ]
  },
  {
   "cell_type": "code",
   "execution_count": 94,
   "metadata": {
    "id": "Dtm7g8p40fgJ"
   },
   "outputs": [],
   "source": [
    "def make_categorical(df : pd.DataFrame, cols_to_categorize : list) -> pd.DataFrame:\n",
    "  '''\n",
    "  Make a set of columns categorical. \n",
    "  :df: dataframe to work on\n",
    "  :cols_to_categorize: list of strings with the columns to make categorical\n",
    "  :return: new dataframe\n",
    "  '''\n",
    "  df_ret = df.copy(deep = True)\n",
    "  df_ret[cols_to_categorize] = df_ret[cols_to_categorize].astype('category')\n",
    "  return df_ret"
   ]
  },
  {
   "cell_type": "code",
   "execution_count": 95,
   "metadata": {
    "colab": {
     "base_uri": "https://localhost:8080/",
     "height": 0
    },
    "id": "bN_hpkGuIJFp",
    "outputId": "b79569b7-4261-4f9f-9a80-5cdc53dedae9"
   },
   "outputs": [
    {
     "data": {
      "text/plain": [
       "Index(['index', 'rideable_type', 'started_at', 'ended_at', 'start_lat',\n",
       "       'start_lng', 'end_lat', 'end_lng', 'member_casual',\n",
       "       'Maximum Temperature', 'Minimum Temperature', 'Temperature',\n",
       "       'Precipitation', 'Snow', 'Snow Depth', 'Wind Speed', 'Wind Direction',\n",
       "       'Visibility', 'Cloud Cover', 'Relative Humidity', 'Conditions', 'Date',\n",
       "       'month', 'distance', 'Time_spent', 'month_day', 'hour_started',\n",
       "       'minute_started', 'hour_ended', 'minute_ended', 'day_of_week',\n",
       "       'rideable_type_dummy', 'Conditions_dummy', 'member_casual_dummy',\n",
       "       'hour_started_polar', 'minute_started_polar', 'hour_ended_polar',\n",
       "       'minute_ended_polar'],\n",
       "      dtype='object')"
      ]
     },
     "execution_count": 95,
     "metadata": {},
     "output_type": "execute_result"
    }
   ],
   "source": [
    "final_df.columns"
   ]
  },
  {
   "cell_type": "code",
   "execution_count": 96,
   "metadata": {
    "colab": {
     "base_uri": "https://localhost:8080/",
     "height": 0
    },
    "id": "IxObgAv31M_x",
    "outputId": "849a10ed-db11-4509-f31e-30e845bf61b2"
   },
   "outputs": [
    {
     "data": {
      "text/plain": [
       "index                           object\n",
       "rideable_type                 category\n",
       "started_at              datetime64[ns]\n",
       "ended_at                datetime64[ns]\n",
       "start_lat                       object\n",
       "start_lng                       object\n",
       "end_lat                         object\n",
       "end_lng                         object\n",
       "member_casual                 category\n",
       "Maximum Temperature             object\n",
       "Minimum Temperature             object\n",
       "Temperature                     object\n",
       "Precipitation                   object\n",
       "Snow                            object\n",
       "Snow Depth                      object\n",
       "Wind Speed                      object\n",
       "Wind Direction                  object\n",
       "Visibility                      object\n",
       "Cloud Cover                     object\n",
       "Relative Humidity               object\n",
       "Conditions                    category\n",
       "Date                            object\n",
       "month                            int64\n",
       "distance                        object\n",
       "Time_spent                     float64\n",
       "month_day                        int64\n",
       "hour_started                     int64\n",
       "minute_started                   int64\n",
       "hour_ended                       int64\n",
       "minute_ended                     int64\n",
       "day_of_week                   category\n",
       "rideable_type_dummy           category\n",
       "Conditions_dummy              category\n",
       "member_casual_dummy               int8\n",
       "hour_started_polar             float64\n",
       "minute_started_polar           float64\n",
       "hour_ended_polar               float64\n",
       "minute_ended_polar             float64\n",
       "dtype: object"
      ]
     },
     "execution_count": 96,
     "metadata": {},
     "output_type": "execute_result"
    }
   ],
   "source": [
    "cols_to_categorize = ['day_of_week', 'rideable_type_dummy',\n",
    "       'Conditions_dummy']\n",
    "df_categorized = make_categorical(final_df, cols_to_categorize = cols_to_categorize)\n",
    "df_categorized.dtypes"
   ]
  },
  {
   "cell_type": "code",
   "execution_count": 97,
   "metadata": {
    "id": "R49r3C8Z5Zkh"
   },
   "outputs": [],
   "source": [
    "final_df = df_categorized"
   ]
  },
  {
   "cell_type": "code",
   "execution_count": 98,
   "metadata": {
    "colab": {
     "base_uri": "https://localhost:8080/",
     "height": 0
    },
    "id": "7SwWC8tk5dS5",
    "outputId": "7c940c9c-55c8-46f2-9707-9195ebc64041"
   },
   "outputs": [
    {
     "data": {
      "text/plain": [
       "Index(['month', 'Time_spent', 'month_day', 'hour_started', 'minute_started',\n",
       "       'hour_ended', 'minute_ended', 'member_casual_dummy',\n",
       "       'hour_started_polar', 'minute_started_polar', 'hour_ended_polar',\n",
       "       'minute_ended_polar'],\n",
       "      dtype='object')"
      ]
     },
     "execution_count": 98,
     "metadata": {},
     "output_type": "execute_result"
    }
   ],
   "source": [
    "final_df._get_numeric_data().columns"
   ]
  },
  {
   "cell_type": "markdown",
   "metadata": {
    "id": "JOKqGKYoQgU2"
   },
   "source": [
    "The dataset is almost clustering ready. Just a few processing steps are left"
   ]
  },
  {
   "cell_type": "markdown",
   "metadata": {
    "id": "QHpoTMQl8ezE"
   },
   "source": [
    "## Time_spent Winsorization & drops <a class=\"anchor\" id=\"section5_2\"></a>"
   ]
  },
  {
   "cell_type": "code",
   "execution_count": 99,
   "metadata": {
    "id": "0ryqf2-B-vgl"
   },
   "outputs": [],
   "source": [
    "df = final_df.copy(deep = True)"
   ]
  },
  {
   "cell_type": "markdown",
   "metadata": {
    "id": "gqZl0zbUEs9p"
   },
   "source": [
    "Time spent is also featured with a high number of outliers. This could impact the analysis, as clustering is distance dependent. Here we propose a solution. \n",
    "A plot below, also presentjustifies the chapter. "
   ]
  },
  {
   "cell_type": "code",
   "execution_count": 100,
   "metadata": {
    "colab": {
     "base_uri": "https://localhost:8080/",
     "height": 294
    },
    "id": "tmuceBt6E9uV",
    "outputId": "f3510490-6027-45f7-b003-d0c6e76ac265"
   },
   "outputs": [
    {
     "data": {
      "text/plain": [
       "<matplotlib.axes._subplots.AxesSubplot at 0x7f2a714e72d0>"
      ]
     },
     "execution_count": 100,
     "metadata": {},
     "output_type": "execute_result"
    },
    {
     "data": {
      "image/png": "[encoded data removed]",
      "text/plain": [
       "<Figure size 432x288 with 1 Axes>"
      ]
     },
     "metadata": {
      "needs_background": "light"
     },
     "output_type": "display_data"
    }
   ],
   "source": [
    "df['Time_spent'].plot.box()"
   ]
  },
  {
   "cell_type": "markdown",
   "metadata": {
    "id": "INHzAPmlCbeb"
   },
   "source": [
    "From the company website: <br>\n",
    "*Please know that bikes that are missing for longer than 24 hours can result in a $1,200 fee (plus tax) charged to the account holder that took out the bike.*"
   ]
  },
  {
   "cell_type": "code",
   "execution_count": 101,
   "metadata": {
    "colab": {
     "base_uri": "https://localhost:8080/",
     "height": 0
    },
    "id": "bhbwaGj4BclN",
    "outputId": "8eee8d70-11ae-4ed2-adb5-7680e91d7601"
   },
   "outputs": [
    {
     "data": {
      "text/plain": [
       "644.5791666666667"
      ]
     },
     "execution_count": 101,
     "metadata": {},
     "output_type": "execute_result"
    }
   ],
   "source": [
    "# result in hours is way higher than maximum number of hours of rental. After 24hrs\n",
    "# a bike is considered missing. We will consider rides up to 48 hrs (day pass + missing)\n",
    "# just to avoid losing too much\n",
    "df['Time_spent'].max() / (3600)"
   ]
  },
  {
   "cell_type": "code",
   "execution_count": 102,
   "metadata": {
    "id": "6Ev_9dKT3Ghs"
   },
   "outputs": [],
   "source": [
    "# time spent is full of outliers as we saw at the beginning\n",
    "# let's winsorize them as an option and see what happens\n",
    "# we use the same function as the first notebook (here copied for simplicity as it would have been the only import).\n",
    "def quantiles_and_iqr(col : pd.Series) -> tuple:\n",
    "  \"\"\"\n",
    "  Function to return all canonical quantiles, the iqr and the bounds for outliers\n",
    "  :col: Pandas series to examinate\n",
    "  :return: tuple with (first_quantile, median, third_quantile, IQR, lower_buond, upper_bound)\n",
    "  \"\"\"\n",
    "  q1 = col.quantile(0.25)\n",
    "  med = col.quantile(0.5)\n",
    "  q3 = col.quantile(0.75)\n",
    "  iqr = q3 - q1\n",
    "  lower_bound = (q1 - 1.5 * iqr)\n",
    "  upper_bound = (q3 + 1.5 * iqr)\n",
    "  return q1, med, q3, iqr, lower_bound, upper_bound"
   ]
  },
  {
   "cell_type": "code",
   "execution_count": 103,
   "metadata": {
    "id": "9GRLY36o4JB3"
   },
   "outputs": [],
   "source": [
    "def clean_and_winsorize_df_col(df : pd.DataFrame, col_name : str, verbose = False, clean = True) -> pd.DataFrame:\n",
    "  '''\n",
    "  Applies winsorization to a given column and cleans it for rides longer than 48 hours\n",
    "  if needed\n",
    "  :df: Dataframe\n",
    "  :col: column name\n",
    "  :clean: if True removes rides that are longer than 48hrs in Time_spent\n",
    "  :return: new dataframe\n",
    "  '''\n",
    "  col = df[col_name].copy(deep = True)\n",
    "  if clean:\n",
    "    #drop greater than 24 hours in seconds\n",
    "    mask_drop = col > 24 * 3600\n",
    "    print('Number of observations dropped:', mask_drop.sum())\n",
    "    df.drop(df[mask_drop].index, inplace = True)\n",
    "  _, _, _, _, lower_bound, upper_bound = quantiles_and_iqr(col)\n",
    "  mask_lower = col < lower_bound\n",
    "  mask_upper = col > upper_bound\n",
    "  col[mask_lower] = lower_bound\n",
    "  col[mask_upper] = upper_bound\n",
    "  if verbose == True:\n",
    "    fig, axes = plt.subplots(nrows = 1, ncols = 2)\n",
    "    fig.suptitle('Before and After')\n",
    "    df[col_name].plot(ax = axes[0], kind = 'density')\n",
    "    # col.plot(ax = axes[1], kind = 'density')\n",
    "    col.plot(ax = axes[1], kind = 'density')\n",
    "  df[col_name] = col\n",
    "  df.reset_index(inplace = True)\n",
    "\n",
    "  return df\n"
   ]
  },
  {
   "cell_type": "code",
   "execution_count": 104,
   "metadata": {
    "colab": {
     "base_uri": "https://localhost:8080/",
     "height": 0
    },
    "id": "0rg4VslA55uB",
    "outputId": "2b7314ba-fe08-438e-a5b6-b9ad25466fc7"
   },
   "outputs": [
    {
     "name": "stdout",
     "output_type": "stream",
     "text": [
      "Number of observations dropped: 403\n"
     ]
    }
   ],
   "source": [
    "# in this cell we will either apply or not the transformation\n",
    "# it all depends on two set parameters that can be commented out\n",
    "winsor = False\n",
    "verbose = False\n",
    "clean = False\n",
    "# comment out these two for a different behavior\n",
    "winsor = True\n",
    "verbose = False\n",
    "clean = True\n",
    "if winsor:\n",
    "  df = clean_and_winsorize_df_col(df, 'Time_spent', verbose = verbose, clean = clean)"
   ]
  },
  {
   "cell_type": "code",
   "execution_count": 105,
   "metadata": {
    "colab": {
     "base_uri": "https://localhost:8080/",
     "height": 0
    },
    "id": "dTbKK9KwtgXF",
    "outputId": "747e007c-b8f5-48dc-dbd3-dc299d84c08e"
   },
   "outputs": [
    {
     "data": {
      "text/plain": [
       "level_0                 0\n",
       "index                   0\n",
       "rideable_type           0\n",
       "started_at              0\n",
       "ended_at                0\n",
       "start_lat               0\n",
       "start_lng               0\n",
       "end_lat                 0\n",
       "end_lng                 0\n",
       "member_casual           0\n",
       "Maximum Temperature     0\n",
       "Minimum Temperature     0\n",
       "Temperature             0\n",
       "Precipitation           0\n",
       "Snow                    0\n",
       "Snow Depth              0\n",
       "Wind Speed              0\n",
       "Wind Direction          0\n",
       "Visibility              0\n",
       "Cloud Cover             0\n",
       "Relative Humidity       0\n",
       "Conditions              0\n",
       "Date                    0\n",
       "month                   0\n",
       "distance                0\n",
       "Time_spent              0\n",
       "month_day               0\n",
       "hour_started            0\n",
       "minute_started          0\n",
       "hour_ended              0\n",
       "minute_ended            0\n",
       "day_of_week             0\n",
       "rideable_type_dummy     0\n",
       "Conditions_dummy        0\n",
       "member_casual_dummy     0\n",
       "hour_started_polar      0\n",
       "minute_started_polar    0\n",
       "hour_ended_polar        0\n",
       "minute_ended_polar      0\n",
       "dtype: int64"
      ]
     },
     "execution_count": 105,
     "metadata": {},
     "output_type": "execute_result"
    }
   ],
   "source": [
    "df.isna().sum()"
   ]
  },
  {
   "cell_type": "code",
   "execution_count": 106,
   "metadata": {
    "colab": {
     "base_uri": "https://localhost:8080/",
     "height": 516
    },
    "id": "gOz5fjufJsXq",
    "outputId": "e003ccf4-21d4-4e5e-ee42-220084c73526"
   },
   "outputs": [
    {
     "data": {
      "image/png": "[encoded data removed]",
      "text/plain": [
       "<Figure size 864x576 with 1 Axes>"
      ]
     },
     "metadata": {
      "needs_background": "light"
     },
     "output_type": "display_data"
    }
   ],
   "source": [
    "# now simple col comparison is nicer and easier to visualize\n",
    "compare_cols(df, 'Time_spent', 'density', False)"
   ]
  },
  {
   "cell_type": "markdown",
   "metadata": {
    "id": "lEaf__NB-ujZ"
   },
   "source": [
    "# K-means clustering <a class=\"anchor\" id=\"chapter6\"></a>"
   ]
  },
  {
   "cell_type": "markdown",
   "metadata": {
    "id": "Y-_yPRF_Lh8u"
   },
   "source": [
    "The idea is that we wish to compute a clustering based on a subset of columns that we wish to analyze. Having obtained the clusters, we then observe what differences can be noticed between the clusters in terms of other variables that were not included in the process of forming them. With this in mind, we will build our hypothesis and design some tests on the information. Given that Kmean is not suitable for categorical variables, we attempt to cluster on continuous values and then analyze the categories' differences between the results. "
   ]
  },
  {
   "cell_type": "markdown",
   "metadata": {
    "id": "u_QOedsbNBPA"
   },
   "source": [
    "As a number of clusters, since we do not want to restrict ourselves too much and at the same time we do not want to identify a partition with too many clusters, we will attempt to find the optimal number of centroids of short size. \n",
    "We also will transform the categories, now considered as integers, to make the analysis more accurate. \n"
   ]
  },
  {
   "cell_type": "code",
   "execution_count": 107,
   "metadata": {
    "id": "8gW9kbCbhjU5"
   },
   "outputs": [],
   "source": [
    "# older version\n",
    "# cols_to_use = ['start_lat', 'start_lng', 'end_lat', 'end_lng', 'Temperature', 'Precipitation', 'Snow',\n",
    "   #    'Wind Speed', 'Cloud Cover', 'Relative Humidity', 'distance', 'Time_spent', 'day_of_week', \n",
    "    #    'month_day', 'month', 'rideable_type_dummy', 'Conditions_dummy', 'member_casual_dummy',\n",
    "     #   'hour_started', 'minute_started', 'hour_ended', 'minute_ended', 'hour_started_polar',\n",
    "      # 'minute_started_polar', 'hour_ended_polar', 'minute_ended_polar', 'group']"
   ]
  },
  {
   "cell_type": "code",
   "execution_count": 108,
   "metadata": {
    "colab": {
     "base_uri": "https://localhost:8080/",
     "height": 0
    },
    "id": "ldy1TEiGPQ9B",
    "outputId": "509a6fa6-bdfa-47a7-ae85-a858de3617dd"
   },
   "outputs": [
    {
     "data": {
      "text/plain": [
       "Index(['level_0', 'index', 'rideable_type', 'started_at', 'ended_at',\n",
       "       'start_lat', 'start_lng', 'end_lat', 'end_lng', 'member_casual',\n",
       "       'Maximum Temperature', 'Minimum Temperature', 'Temperature',\n",
       "       'Precipitation', 'Snow', 'Snow Depth', 'Wind Speed', 'Wind Direction',\n",
       "       'Visibility', 'Cloud Cover', 'Relative Humidity', 'Conditions', 'Date',\n",
       "       'month', 'distance', 'Time_spent', 'month_day', 'hour_started',\n",
       "       'minute_started', 'hour_ended', 'minute_ended', 'day_of_week',\n",
       "       'rideable_type_dummy', 'Conditions_dummy', 'member_casual_dummy',\n",
       "       'hour_started_polar', 'minute_started_polar', 'hour_ended_polar',\n",
       "       'minute_ended_polar'],\n",
       "      dtype='object')"
      ]
     },
     "execution_count": 108,
     "metadata": {},
     "output_type": "execute_result"
    }
   ],
   "source": [
    "df.columns"
   ]
  },
  {
   "cell_type": "markdown",
   "metadata": {
    "id": "qPdP6h3G4u-a"
   },
   "source": [
    "We wish to make a simple comparison. Clustering is not advised for categorical variables, so we will cluster on continuous relevant variables only, and then observe the differences across clusters of categorical variables. What follows is an hypothesis of what we could use"
   ]
  },
  {
   "cell_type": "code",
   "execution_count": 109,
   "metadata": {
    "id": "qmOiyePa5UIk"
   },
   "outputs": [],
   "source": [
    "# newer version\n",
    "cols_to_use = ['Temperature', # good indicator\n",
    "       'Precipitation',       # bad indicator\n",
    "       'distance',            # interesting indicator\n",
    "       'Time_spent',          # interesting indicator\n",
    "       'hour_started_polar',  # interesting indicator\n",
    "       'hour_ended_polar',\n",
    "          # same\n",
    "       'Cloud Cover']\n"
   ]
  },
  {
   "cell_type": "markdown",
   "metadata": {
    "id": "OTPu88TO596n"
   },
   "source": [
    "\n",
    "We ignored the other columns as we believe that those are good summarizing features for the missing ones. "
   ]
  },
  {
   "cell_type": "code",
   "execution_count": 110,
   "metadata": {
    "id": "CdBKC4BmxdLo"
   },
   "outputs": [],
   "source": [
    "# imports\n",
    "from sklearn.decomposition import PCA\n",
    "from sklearn.cluster import KMeans, DBSCAN\n",
    "from sklearn.preprocessing import StandardScaler, MinMaxScaler"
   ]
  },
  {
   "cell_type": "code",
   "execution_count": 111,
   "metadata": {
    "id": "s49UGUPbxdNu"
   },
   "outputs": [],
   "source": [
    "# we standardize the target features and overwrite them in the new df which will \n",
    "# be denoted as _scaled\n",
    "std = StandardScaler()\n",
    "std.fit(df[cols_to_use])\n",
    "df_scaled = df.copy()\n",
    "# df_scaled[cols_to_use] = pd.DataFrame(std.transform(df[cols_to_use]), columns=cols_to_use)"
   ]
  },
  {
   "cell_type": "code",
   "execution_count": 112,
   "metadata": {
    "id": "XXV0GPYD0pWn"
   },
   "outputs": [],
   "source": [
    "df_scaled[cols_to_use] = pd.DataFrame(std.transform(df[cols_to_use]), columns=cols_to_use)"
   ]
  },
  {
   "cell_type": "code",
   "execution_count": 113,
   "metadata": {
    "id": "mQ5rSW4wxdPb"
   },
   "outputs": [],
   "source": [
    "# older version\n",
    "#cols_cluster = ['start_lat', 'start_lng', 'end_lat', 'end_lng', 'distance', 'Time_spent', 'day_of_week', \n",
    "   #     'month_day', 'month', 'rideable_type_dummy','member_casual_dummy', 'hour_started_polar',\n",
    "   #    'minute_started_polar', 'hour_ended_polar', 'minute_ended_polar', 'group' , \n",
    "   #     'Temperature', 'Precipitation', 'Snow', 'Wind Speed', 'Cloud Cover', 'Relative Humidity']"
   ]
  },
  {
   "cell_type": "code",
   "execution_count": 114,
   "metadata": {
    "id": "WrLP4wXq67Wu"
   },
   "outputs": [],
   "source": [
    "# newer version\n",
    "cols_cluster = cols_to_use"
   ]
  },
  {
   "cell_type": "code",
   "execution_count": 115,
   "metadata": {
    "colab": {
     "base_uri": "https://localhost:8080/",
     "height": 0
    },
    "id": "PyQ7UbH6nlN3",
    "outputId": "900f5811-f4c5-4874-f34f-584185ccaf23"
   },
   "outputs": [
    {
     "data": {
      "text/plain": [
       "True"
      ]
     },
     "execution_count": 115,
     "metadata": {},
     "output_type": "execute_result"
    }
   ],
   "source": [
    "df_scaled.shape == df.shape"
   ]
  },
  {
   "cell_type": "code",
   "execution_count": 116,
   "metadata": {
    "colab": {
     "base_uri": "https://localhost:8080/",
     "height": 0
    },
    "id": "hexXYmyjxdRI",
    "outputId": "2b2e125d-1152-45d2-8d68-a2851959f938"
   },
   "outputs": [
    {
     "data": {
      "text/plain": [
       "KMeans(n_clusters=3)"
      ]
     },
     "execution_count": 116,
     "metadata": {},
     "output_type": "execute_result"
    }
   ],
   "source": [
    "kmeans = KMeans(n_clusters=3, init='k-means++')\n",
    "kmeans.fit(df_scaled[cols_cluster])"
   ]
  },
  {
   "cell_type": "code",
   "execution_count": 117,
   "metadata": {
    "id": "ivXODaXoxdTO"
   },
   "outputs": [],
   "source": [
    "df_scaled['labels'] = kmeans.labels_\n",
    "df['labels'] = kmeans.labels_\n",
    "# not needed as it is alwas the same value\n",
    "# df_scaled['centroids'] = kmeans.cluster_centers_\n",
    "# df['centroids'] = kmeans.cluster_centers_\n"
   ]
  },
  {
   "cell_type": "code",
   "execution_count": 118,
   "metadata": {
    "colab": {
     "base_uri": "https://localhost:8080/",
     "height": 0
    },
    "id": "-JuOPT7Bo97r",
    "outputId": "79bbdc2f-2f51-44dc-edbe-e2814f5dd1ab"
   },
   "outputs": [
    {
     "data": {
      "text/plain": [
       "Index(['Temperature', 'Precipitation', 'distance', 'Time_spent',\n",
       "       'hour_started_polar', 'hour_ended_polar', 'Cloud Cover'],\n",
       "      dtype='object')"
      ]
     },
     "execution_count": 118,
     "metadata": {},
     "output_type": "execute_result"
    }
   ],
   "source": [
    "df[cols_to_use].columns"
   ]
  },
  {
   "cell_type": "code",
   "execution_count": 119,
   "metadata": {
    "colab": {
     "base_uri": "https://localhost:8080/",
     "height": 0
    },
    "id": "yZBfotpDBqsI",
    "outputId": "6389b461-6c84-4c0f-a8fa-5c25a5b88972"
   },
   "outputs": [
    {
     "data": {
      "text/plain": [
       "array([ 1.24818543e+01,  4.75072925e-02,  1.44850453e+00,  6.27287340e+02,\n",
       "       -7.09029879e-01, -6.99897039e-01,  6.13963250e+01])"
      ]
     },
     "execution_count": 119,
     "metadata": {},
     "output_type": "execute_result"
    }
   ],
   "source": [
    "# centroids coordinates in real data\n",
    "std.inverse_transform(kmeans.cluster_centers_)[2]"
   ]
  },
  {
   "cell_type": "code",
   "execution_count": 120,
   "metadata": {
    "id": "-fbrSe69xdVC"
   },
   "outputs": [],
   "source": [
    "def compare_groups(df, col_label, model, cols_cluster, col_to_compare, plot_type, centers = False, perc=None):\n",
    "    \n",
    "    plt.figure(figsize=(12,8))\n",
    "    n_clusters = df[col_label].nunique()\n",
    "    for i in range(n_clusters):\n",
    "        if plot_type == 'scatter':\n",
    "            col1 = col_to_compare[0]\n",
    "            col2 = col_to_compare[1]\n",
    "            scatter = plt.scatter(df.loc[df[col_label]==i, col1], df.loc[df[col_label]==i, col2], label= i, alpha=.1)\n",
    "            if centers:\n",
    "                ind1 = cols_cluster.index(col1)\n",
    "                ind2 = cols_cluster.index(col2)\n",
    "                plt.scatter(model.cluster_centers_[i,ind1], model.cluster_centers_[i,ind2], label=f'center {i}', s=2)\n",
    "        if plot_type=='bar':\n",
    "            index = np.arange(df[col_to_compare].nunique())\n",
    "            bar_width = .8 / n_clusters\n",
    "            vals = df[df[col_label]==i][col_to_compare].value_counts(sort=False)\n",
    "            if perc == 'within':\n",
    "                vals = vals / df[col_to_compare].value_counts(sort=False)\n",
    "            elif perc == 'across':\n",
    "                    vals = vals / df[df[col_label]==i][col_to_compare].shape[0]\n",
    "                    \n",
    "            plt.bar(index+bar_width*i, vals, bar_width, label=i)\n",
    "            if col_to_compare=='day_of_week':       \n",
    "                xlabels = ['Mon', 'Tue', 'Wed', 'Thu', 'Fri', 'Sat', 'Sun'] \n",
    "            elif df[col_to_compare].dtype.name=='category':\n",
    "                xlabels = df[col_to_compare].value_counts(sort=False).index\n",
    "            elif col_to_compare == 'month':\n",
    "                xlabels = ['Feb', 'Mar', 'Apr']\n",
    "            else:\n",
    "                xlabels = index\n",
    "            if i == n_clusters-1:\n",
    "                plt.xticks(index+bar_width*i/2, xlabels)\n",
    "\n",
    "        elif 'de' in plot_type:\n",
    "            sns.kdeplot(df.loc[df[col_label]==i, col_to_compare], alpha=.1, label=i, fill=True, bw_adjust=2)\n",
    "            \n",
    "        elif plot_type == 'hist':\n",
    "            vals = df[df[col_label]==i][col_to_compare]\n",
    "            bins = 50\n",
    "            plt.hist(vals, label=i, bins = bins, alpha = 0.5)\n",
    "\n",
    "    if col_to_compare == 'Precipitation' or col_to_compare == 'Snow': #add this because otherwise cannot see anything\n",
    "      plt.xlim([-0.5,2])\n",
    "\n",
    "    plt.title(col_to_compare, size=15)\n",
    "    plt.legend()\n",
    "    plt.show()\n",
    "\n",
    "\n"
   ]
  },
  {
   "cell_type": "code",
   "execution_count": 121,
   "metadata": {
    "colab": {
     "base_uri": "https://localhost:8080/",
     "height": 0
    },
    "id": "C6xnf06DjLcg",
    "outputId": "d8309667-bf5c-4637-d0a0-8fc3a39c882b"
   },
   "outputs": [
    {
     "data": {
      "text/plain": [
       "2    209319\n",
       "1    144008\n",
       "0    110594\n",
       "Name: labels, dtype: int64"
      ]
     },
     "execution_count": 121,
     "metadata": {},
     "output_type": "execute_result"
    }
   ],
   "source": [
    "df.labels.value_counts()"
   ]
  },
  {
   "cell_type": "code",
   "execution_count": 122,
   "metadata": {
    "colab": {
     "base_uri": "https://localhost:8080/",
     "height": 0
    },
    "id": "CZ62Zkb5ndP6",
    "outputId": "2e1dab4c-c244-42f0-89d2-b4131ae72d91"
   },
   "outputs": [
    {
     "data": {
      "text/plain": [
       "Index(['level_0', 'index', 'rideable_type', 'started_at', 'ended_at',\n",
       "       'start_lat', 'start_lng', 'end_lat', 'end_lng', 'member_casual',\n",
       "       'Maximum Temperature', 'Minimum Temperature', 'Temperature',\n",
       "       'Precipitation', 'Snow', 'Snow Depth', 'Wind Speed', 'Wind Direction',\n",
       "       'Visibility', 'Cloud Cover', 'Relative Humidity', 'Conditions', 'Date',\n",
       "       'month', 'distance', 'Time_spent', 'month_day', 'hour_started',\n",
       "       'minute_started', 'hour_ended', 'minute_ended', 'day_of_week',\n",
       "       'rideable_type_dummy', 'Conditions_dummy', 'member_casual_dummy',\n",
       "       'hour_started_polar', 'minute_started_polar', 'hour_ended_polar',\n",
       "       'minute_ended_polar', 'labels'],\n",
       "      dtype='object')"
      ]
     },
     "execution_count": 122,
     "metadata": {},
     "output_type": "execute_result"
    }
   ],
   "source": [
    "df.columns"
   ]
  },
  {
   "cell_type": "code",
   "execution_count": 123,
   "metadata": {
    "colab": {
     "base_uri": "https://localhost:8080/",
     "height": 501
    },
    "id": "ok2Q2dMIO6Kn",
    "outputId": "68ea0215-a2a1-47e1-ddc2-b90ff9f381a0"
   },
   "outputs": [
    {
     "data": {
      "image/png": "[encoded data removed]",
      "text/plain": [
       "<Figure size 864x576 with 1 Axes>"
      ]
     },
     "metadata": {
      "needs_background": "light"
     },
     "output_type": "display_data"
    }
   ],
   "source": [
    "compare_groups(df,'labels', kmeans,  cols_cluster, 'member_casual', 'bar', perc = 'across')"
   ]
  },
  {
   "cell_type": "code",
   "execution_count": 124,
   "metadata": {
    "colab": {
     "base_uri": "https://localhost:8080/",
     "height": 515
    },
    "id": "nhyU-GM-xdYb",
    "outputId": "f45bc064-c588-44be-dbe7-1e05eb33d20a"
   },
   "outputs": [
    {
     "data": {
      "image/png": "[encoded data removed]",
      "text/plain": [
       "<Figure size 864x576 with 1 Axes>"
      ]
     },
     "metadata": {
      "needs_background": "light"
     },
     "output_type": "display_data"
    }
   ],
   "source": [
    "compare_groups(df,'labels', kmeans,  cols_cluster, 'Temperature', 'de', perc = 'across')"
   ]
  },
  {
   "cell_type": "code",
   "execution_count": 125,
   "metadata": {
    "colab": {
     "base_uri": "https://localhost:8080/",
     "height": 516
    },
    "id": "BmQ6EG1Z8oLd",
    "outputId": "37eee092-4521-45d6-dd89-47800005edb1"
   },
   "outputs": [
    {
     "data": {
      "image/png": "[encoded data removed]",
      "text/plain": [
       "<Figure size 864x576 with 1 Axes>"
      ]
     },
     "metadata": {
      "needs_background": "light"
     },
     "output_type": "display_data"
    }
   ],
   "source": [
    "compare_groups(df,'labels', kmeans,  cols_cluster, 'hour_started', 'de', perc = 'within')"
   ]
  },
  {
   "cell_type": "code",
   "execution_count": 126,
   "metadata": {
    "colab": {
     "base_uri": "https://localhost:8080/",
     "height": 515
    },
    "id": "xm4wiYCzQ3Ye",
    "outputId": "44ca8e6a-9f58-4ea0-d15e-9b32ea42f302"
   },
   "outputs": [
    {
     "data": {
      "image/png": "[encoded data removed]",
      "text/plain": [
       "<Figure size 864x576 with 1 Axes>"
      ]
     },
     "metadata": {
      "needs_background": "light"
     },
     "output_type": "display_data"
    }
   ],
   "source": [
    "compare_groups(df,'labels', kmeans,  cols_cluster, 'Cloud Cover', 'de', perc = 'across')"
   ]
  },
  {
   "cell_type": "code",
   "execution_count": 127,
   "metadata": {
    "colab": {
     "base_uri": "https://localhost:8080/",
     "height": 501
    },
    "id": "VcC_juvjQ36K",
    "outputId": "13688443-d39c-4291-c153-6a672778f2fb"
   },
   "outputs": [
    {
     "data": {
      "image/png": "[encoded data removed]",
      "text/plain": [
       "<Figure size 864x576 with 1 Axes>"
      ]
     },
     "metadata": {
      "needs_background": "light"
     },
     "output_type": "display_data"
    }
   ],
   "source": [
    "# blue is member, green is leisure\n",
    "compare_groups(df,'labels', kmeans,  cols_cluster, 'member_casual', 'bar', perc = 'across')"
   ]
  },
  {
   "cell_type": "code",
   "execution_count": 128,
   "metadata": {
    "colab": {
     "base_uri": "https://localhost:8080/",
     "height": 502
    },
    "id": "-bp7vTnlQ4tp",
    "outputId": "4febffa2-b745-43d5-e9fe-5c49ca07697d"
   },
   "outputs": [
    {
     "data": {
      "image/png": "[encoded data removed]",
      "text/plain": [
       "<Figure size 864x576 with 1 Axes>"
      ]
     },
     "metadata": {
      "needs_background": "light"
     },
     "output_type": "display_data"
    }
   ],
   "source": [
    "compare_groups(df,'labels', kmeans,  cols_cluster, 'rideable_type', 'bar', perc = 'across')"
   ]
  },
  {
   "cell_type": "code",
   "execution_count": 129,
   "metadata": {
    "colab": {
     "base_uri": "https://localhost:8080/",
     "height": 501
    },
    "id": "pLHp3g-0W1un",
    "outputId": "4e2bdf00-1459-4ae6-ba19-e488d7ed7eb7"
   },
   "outputs": [
    {
     "data": {
      "image/png": "[encoded data removed]",
      "text/plain": [
       "<Figure size 864x576 with 1 Axes>"
      ]
     },
     "metadata": {
      "needs_background": "light"
     },
     "output_type": "display_data"
    }
   ],
   "source": [
    "# green are leasure users, blue are work users. may plots show this and this is the last\n",
    "# proof, in this case we note that across time most of the green users concentrate on the weekends. \n",
    "# instead, blue tends to be more constant\n",
    "compare_groups(df,'labels', kmeans,  cols_cluster, 'day_of_week', 'bar', perc = 'across')"
   ]
  },
  {
   "cell_type": "code",
   "execution_count": 130,
   "metadata": {
    "colab": {
     "base_uri": "https://localhost:8080/",
     "height": 501
    },
    "id": "BeQgyGxCshy4",
    "outputId": "048b8f11-358d-4589-ef0a-d42dbe9ca4de"
   },
   "outputs": [
    {
     "data": {
      "image/png": "[encoded data removed]",
      "text/plain": [
       "<Figure size 864x576 with 1 Axes>"
      ]
     },
     "metadata": {
      "needs_background": "light"
     },
     "output_type": "display_data"
    }
   ],
   "source": [
    "compare_groups(df,'labels', kmeans,  cols_cluster, 'Conditions', 'bar', perc = 'across')"
   ]
  },
  {
   "cell_type": "code",
   "execution_count": 131,
   "metadata": {
    "colab": {
     "base_uri": "https://localhost:8080/",
     "height": 501
    },
    "id": "gHoTDYTBvsy6",
    "outputId": "c63f5609-54e2-4621-d684-57a475e43147"
   },
   "outputs": [
    {
     "data": {
      "image/png": "[encoded data removed]",
      "text/plain": [
       "<Figure size 864x576 with 1 Axes>"
      ]
     },
     "metadata": {
      "needs_background": "light"
     },
     "output_type": "display_data"
    }
   ],
   "source": [
    "compare_groups(df,'labels', kmeans,  cols_cluster, 'Conditions', 'bar', perc = 'across')"
   ]
  },
  {
   "cell_type": "code",
   "execution_count": 132,
   "metadata": {
    "colab": {
     "base_uri": "https://localhost:8080/",
     "height": 515
    },
    "id": "aEW2O83Qsmdi",
    "outputId": "aa9f3394-fa46-421a-baa4-a283e98c9360"
   },
   "outputs": [
    {
     "data": {
      "image/png": "[encoded data removed]",
      "text/plain": [
       "<Figure size 864x576 with 1 Axes>"
      ]
     },
     "metadata": {
      "needs_background": "light"
     },
     "output_type": "display_data"
    }
   ],
   "source": [
    "compare_groups(df,'labels', kmeans,  cols_cluster, 'distance', 'de', perc = 'across')"
   ]
  },
  {
   "cell_type": "code",
   "execution_count": 133,
   "metadata": {
    "colab": {
     "base_uri": "https://localhost:8080/",
     "height": 501
    },
    "id": "NhRpwHpAs_Tq",
    "outputId": "736e7952-c56d-41bf-a475-30f43b1c2257"
   },
   "outputs": [
    {
     "data": {
      "image/png": "[encoded data removed]",
      "text/plain": [
       "<Figure size 864x576 with 1 Axes>"
      ]
     },
     "metadata": {
      "needs_background": "light"
     },
     "output_type": "display_data"
    }
   ],
   "source": [
    "compare_groups(df,'labels', kmeans,  cols_cluster, 'month', 'bar', perc = 'across')"
   ]
  },
  {
   "cell_type": "code",
   "execution_count": 134,
   "metadata": {
    "colab": {
     "base_uri": "https://localhost:8080/",
     "height": 0
    },
    "id": "kPbRLcShpgtD",
    "outputId": "65bb4f6c-d125-4ae8-9a99-759fa64508cc"
   },
   "outputs": [
    {
     "data": {
      "text/plain": [
       "2    209319\n",
       "1    144008\n",
       "0    110594\n",
       "Name: labels, dtype: int64"
      ]
     },
     "execution_count": 134,
     "metadata": {},
     "output_type": "execute_result"
    }
   ],
   "source": [
    "df.labels.value_counts()"
   ]
  },
  {
   "cell_type": "code",
   "execution_count": 135,
   "metadata": {
    "id": "KoWA_U33_iog"
   },
   "outputs": [],
   "source": [
    "def plot_kmean(dataset : pd.DataFrame, x_var : str, y_var : str, sample_size = 1000) -> None:\n",
    "  '''\n",
    "  Plots the result of a Kmeans algorithm in an R^2 space. Labels are colored differently\n",
    "  to underline possible differences conditional on the coordinates in the classes.\n",
    "  Obviously, the two have to be continuous. \n",
    "  : dataset: dataframe to work on. Must have already  undergone kmeans and standardization\n",
    "  : x_var: string identifying variable for the x axis \n",
    "  : y_var: string identifying variable for the y axis\n",
    "  : sample_size: size of the sample to plot, if the observations are too many\n",
    "  '''\n",
    "  fig, ax = plt.subplots(figsize=(15,8))\n",
    "  k = np.int(dataset.labels.nunique())\n",
    "  if (dataset[x_var].dtype.name == 'category' or dataset[y_var].dtype.name == 'category'):\n",
    "    raise Exception('Cannot plot a categorical variable on the xy axis, please choose one that is considered to be an integer.')\n",
    "  if (dataset[x_var].dtype.name == 'object' or dataset[y_var].dtype.name == 'object'):\n",
    "      raise Exception('Cannot plot an object variable on the xy axis, please choose one that is considered to be an integer.')\n",
    "  if sample_size != None:\n",
    "    dataset = dataset.sample(n = sample_size)\n",
    "  sns.scatterplot(x = x_var, y= y_var, data=dataset, \n",
    "                  palette=sns.color_palette(\"bright\",k),\n",
    "                  hue='labels', #size=\"centroids\", size_order=[1,0],\n",
    "                  legend=\"brief\", ax=ax).set_title('Clustering')\n",
    "    #th_centroids = model.cluster_centers_\n",
    "    #ax.scatter(th_centroids[:,0], th_centroids[:,1], s=50, c='black', marker=\"x\")"
   ]
  },
  {
   "cell_type": "code",
   "execution_count": 136,
   "metadata": {
    "id": "lIfu-VZsNVoa"
   },
   "outputs": [],
   "source": [
    "# this would return an error\n",
    "# plot_kmean(df, 'member_casual', 'start_lat', sample_size = 1000)"
   ]
  },
  {
   "cell_type": "code",
   "execution_count": 137,
   "metadata": {
    "colab": {
     "base_uri": "https://localhost:8080/",
     "height": 0
    },
    "id": "fBdIWG0g3HGO",
    "outputId": "987aa8b3-9f50-44ee-9c67-737b7581d250"
   },
   "outputs": [
    {
     "data": {
      "text/plain": [
       "Index(['level_0', 'index', 'rideable_type', 'started_at', 'ended_at',\n",
       "       'start_lat', 'start_lng', 'end_lat', 'end_lng', 'member_casual',\n",
       "       'Maximum Temperature', 'Minimum Temperature', 'Temperature',\n",
       "       'Precipitation', 'Snow', 'Snow Depth', 'Wind Speed', 'Wind Direction',\n",
       "       'Visibility', 'Cloud Cover', 'Relative Humidity', 'Conditions', 'Date',\n",
       "       'month', 'distance', 'Time_spent', 'month_day', 'hour_started',\n",
       "       'minute_started', 'hour_ended', 'minute_ended', 'day_of_week',\n",
       "       'rideable_type_dummy', 'Conditions_dummy', 'member_casual_dummy',\n",
       "       'hour_started_polar', 'minute_started_polar', 'hour_ended_polar',\n",
       "       'minute_ended_polar', 'labels'],\n",
       "      dtype='object')"
      ]
     },
     "execution_count": 137,
     "metadata": {},
     "output_type": "execute_result"
    }
   ],
   "source": [
    "df.columns"
   ]
  },
  {
   "cell_type": "markdown",
   "metadata": {
    "id": "3bXUn7v0XYyV"
   },
   "source": [
    "# Saving the dataset <a class=\"anchor\" id=\"chapter7\"></a>"
   ]
  },
  {
   "cell_type": "markdown",
   "metadata": {
    "id": "uemwAia4XbOw"
   },
   "source": [
    "The information, now processed and ordered, will be saved in two distinct datasets to allow uploading into github. In later sections a merge of the two will take place. "
   ]
  },
  {
   "cell_type": "code",
   "execution_count": 138,
   "metadata": {
    "id": "qh0XPVSDPsBS"
   },
   "outputs": [],
   "source": [
    "# older version\n",
    "# df_saved = final_df.to_csv('/content/h_farm_group_work/final_df.csv')"
   ]
  },
  {
   "cell_type": "code",
   "execution_count": 139,
   "metadata": {
    "id": "njeIOiWOXph6"
   },
   "outputs": [],
   "source": [
    "# newer version\n",
    "df_saved = final_df.to_csv('/content/h_farm_group_work/processed_df.csv')"
   ]
  },
  {
   "cell_type": "code",
   "execution_count": 140,
   "metadata": {
    "id": "gVu7IKB1Xs-z"
   },
   "outputs": [],
   "source": [
    "# it is important to notice that google does not work well when downloading and\n",
    "# writing data to a csv format. Also uploading has evident problems.\n",
    "# Given that data is changed when transferred, we could not split the notebook\n",
    "# in two."
   ]
  }
 ],
 "metadata": {
  "colab": {
   "collapsed_sections": [
    "fSAJtUH_ZRCL",
    "5did9CLQ0Rjg",
    "vGk2kjhQRVSp",
    "3bXUn7v0XYyV"
   ],
   "name": "project_final_data_processing.ipynb",
   "provenance": [],
   "toc_visible": true
  },
  "kernelspec": {
   "display_name": "Python 3 (ipykernel)",
   "language": "python",
   "name": "python3"
  },
  "language_info": {
   "codemirror_mode": {
    "name": "ipython",
    "version": 3
   },
   "file_extension": ".py",
   "mimetype": "text/x-python",
   "name": "python",
   "nbconvert_exporter": "python",
   "pygments_lexer": "ipython3",
   "version": "3.8.5"
  }
 },
 "nbformat": 4,
 "nbformat_minor": 1
}
